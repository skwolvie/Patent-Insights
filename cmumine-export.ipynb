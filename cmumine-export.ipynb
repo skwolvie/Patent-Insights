{
 "cells": [
  {
   "cell_type": "code",
   "execution_count": 2,
   "metadata": {},
   "outputs": [
    {
     "data": {
      "text/plain": [
       "['.DS_Store',\n",
       " 'test',\n",
       " 'indepn_depn',\n",
       " 'val2006.csv',\n",
       " 'train2006.csv',\n",
       " 'test2006.csv',\n",
       " 'Helper doc.docx',\n",
       " 'train',\n",
       " 'D:\\\\Patent Insights Data\\\\.cache\\\\huggingface\\\\datasets',\n",
       " 'val']"
      ]
     },
     "execution_count": 2,
     "metadata": {},
     "output_type": "execute_result"
    }
   ],
   "source": [
    "import pandas as pd\n",
    "import os\n",
    "os.chdir('../cmuMine/')\n",
    "os.listdir()"
   ]
  },
  {
   "cell_type": "code",
   "execution_count": 5,
   "metadata": {},
   "outputs": [
    {
     "name": "stdout",
     "output_type": "stream",
     "text": [
      "(16109, 5)\n",
      "(127971, 5)\n",
      "(16037, 5)\n"
     ]
    }
   ],
   "source": [
    "val_df= pd.read_csv('val2006.csv')\n",
    "print(val_df.shape)\n",
    "\n",
    "tr= pd.read_csv('train2006.csv')\n",
    "print(tr.shape)\n",
    "\n",
    "ts= pd.read_csv('test2006.csv')\n",
    "print(ts.shape)"
   ]
  },
  {
   "cell_type": "code",
   "execution_count": 9,
   "metadata": {},
   "outputs": [
    {
     "data": {
      "text/plain": [
       "(160117, 5)"
      ]
     },
     "execution_count": 9,
     "metadata": {},
     "output_type": "execute_result"
    }
   ],
   "source": [
    "df= pd.concat([val_df, tr, ts])\n",
    "df.shape"
   ]
  },
  {
   "cell_type": "code",
   "execution_count": 12,
   "metadata": {},
   "outputs": [],
   "source": [
    "df['patent_number'].to_csv('filter_patents.csv', index=False)"
   ]
  },
  {
   "cell_type": "code",
   "execution_count": 13,
   "metadata": {},
   "outputs": [
    {
     "data": {
      "text/html": [
       "<div>\n",
       "<style scoped>\n",
       "    .dataframe tbody tr th:only-of-type {\n",
       "        vertical-align: middle;\n",
       "    }\n",
       "\n",
       "    .dataframe tbody tr th {\n",
       "        vertical-align: top;\n",
       "    }\n",
       "\n",
       "    .dataframe thead th {\n",
       "        text-align: right;\n",
       "    }\n",
       "</style>\n",
       "<table border=\"1\" class=\"dataframe\">\n",
       "  <thead>\n",
       "    <tr style=\"text-align: right;\">\n",
       "      <th></th>\n",
       "      <th>patent_number</th>\n",
       "      <th>abstract</th>\n",
       "      <th>summary</th>\n",
       "      <th>firstclaim</th>\n",
       "      <th>claims</th>\n",
       "    </tr>\n",
       "  </thead>\n",
       "  <tbody>\n",
       "    <tr>\n",
       "      <th>0</th>\n",
       "      <td>US20060191158A1</td>\n",
       "      <td>A lumber drying system includes a drying compa...</td>\n",
       "      <td>A system for drying lumber is provided, where...</td>\n",
       "      <td>1. A system for drying lumber, the system comp...</td>\n",
       "      <td>1. A system for drying lumber, the system comp...</td>\n",
       "    </tr>\n",
       "    <tr>\n",
       "      <th>1</th>\n",
       "      <td>US20060242907A1</td>\n",
       "      <td>A gasifier injection module includes a two-sta...</td>\n",
       "      <td>A gasifier having a gasification chamber and ...</td>\n",
       "      <td>1. An injector module for a gasifier, said inj...</td>\n",
       "      <td>1. An injector module for a gasifier, said inj...</td>\n",
       "    </tr>\n",
       "    <tr>\n",
       "      <th>2</th>\n",
       "      <td>US20060248618A1</td>\n",
       "      <td>Systems and methods for copying the classical ...</td>\n",
       "      <td>In one embodiment, a method of copying a clas...</td>\n",
       "      <td>1. A method of copying a classical state of a ...</td>\n",
       "      <td>1. A method of copying a classical state of a ...</td>\n",
       "    </tr>\n",
       "    <tr>\n",
       "      <th>3</th>\n",
       "      <td>US20060046342A1</td>\n",
       "      <td>A method for manufacturing an organic electron...</td>\n",
       "      <td>According to a first aspect, the present inve...</td>\n",
       "      <td>1. A method for manufacturing an organic elect...</td>\n",
       "      <td>1. A method for manufacturing an organic elect...</td>\n",
       "    </tr>\n",
       "    <tr>\n",
       "      <th>4</th>\n",
       "      <td>US20060133565A1</td>\n",
       "      <td>The present invention provides a computed tomo...</td>\n",
       "      <td>The present invention is made in view of thes...</td>\n",
       "      <td>1. A computed tomography system comprising: \\n...</td>\n",
       "      <td>1. A computed tomography system comprising: \\n...</td>\n",
       "    </tr>\n",
       "    <tr>\n",
       "      <th>...</th>\n",
       "      <td>...</td>\n",
       "      <td>...</td>\n",
       "      <td>...</td>\n",
       "      <td>...</td>\n",
       "      <td>...</td>\n",
       "    </tr>\n",
       "    <tr>\n",
       "      <th>16032</th>\n",
       "      <td>US20060131479A1</td>\n",
       "      <td>A laser beam receiver with non-interdigitated ...</td>\n",
       "      <td>These needs are met by a long laser beam rece...</td>\n",
       "      <td>1. A laser beam receiver for detecting the pos...</td>\n",
       "      <td>1. A laser beam receiver for detecting the pos...</td>\n",
       "    </tr>\n",
       "    <tr>\n",
       "      <th>16033</th>\n",
       "      <td>US20060180464A1</td>\n",
       "      <td>An apparatus for the production of hydrogen is...</td>\n",
       "      <td>It is a general object of the disclosed inven...</td>\n",
       "      <td>1. An apparatus for the production of hydrogen...</td>\n",
       "      <td>1. An apparatus for the production of hydrogen...</td>\n",
       "    </tr>\n",
       "    <tr>\n",
       "      <th>16034</th>\n",
       "      <td>US20060254670A1</td>\n",
       "      <td>A service unit for resource replenishment in a...</td>\n",
       "      <td>This invention relates to a service unit for ...</td>\n",
       "      <td>1. A service unit for resource replenishment i...</td>\n",
       "      <td>1. A service unit for resource replenishment i...</td>\n",
       "    </tr>\n",
       "    <tr>\n",
       "      <th>16035</th>\n",
       "      <td>US20060277800A1</td>\n",
       "      <td>The invention relates to a system for securing...</td>\n",
       "      <td>Therefore, it is an object of the invention t...</td>\n",
       "      <td>1. A system for securing a reversible cleat, c...</td>\n",
       "      <td>1. A system for securing a reversible cleat, c...</td>\n",
       "    </tr>\n",
       "    <tr>\n",
       "      <th>16036</th>\n",
       "      <td>US20060238451A1</td>\n",
       "      <td>Disclosed is an image display device that is c...</td>\n",
       "      <td>In view of the foregoing, it is an object of ...</td>\n",
       "      <td>1. An image display device comprising: \\na dri...</td>\n",
       "      <td>1. An image display device comprising: \\na dri...</td>\n",
       "    </tr>\n",
       "  </tbody>\n",
       "</table>\n",
       "<p>160117 rows × 5 columns</p>\n",
       "</div>"
      ],
      "text/plain": [
       "         patent_number                                           abstract  \\\n",
       "0      US20060191158A1  A lumber drying system includes a drying compa...   \n",
       "1      US20060242907A1  A gasifier injection module includes a two-sta...   \n",
       "2      US20060248618A1  Systems and methods for copying the classical ...   \n",
       "3      US20060046342A1  A method for manufacturing an organic electron...   \n",
       "4      US20060133565A1  The present invention provides a computed tomo...   \n",
       "...                ...                                                ...   \n",
       "16032  US20060131479A1  A laser beam receiver with non-interdigitated ...   \n",
       "16033  US20060180464A1  An apparatus for the production of hydrogen is...   \n",
       "16034  US20060254670A1  A service unit for resource replenishment in a...   \n",
       "16035  US20060277800A1  The invention relates to a system for securing...   \n",
       "16036  US20060238451A1  Disclosed is an image display device that is c...   \n",
       "\n",
       "                                                 summary  \\\n",
       "0       A system for drying lumber is provided, where...   \n",
       "1       A gasifier having a gasification chamber and ...   \n",
       "2       In one embodiment, a method of copying a clas...   \n",
       "3       According to a first aspect, the present inve...   \n",
       "4       The present invention is made in view of thes...   \n",
       "...                                                  ...   \n",
       "16032   These needs are met by a long laser beam rece...   \n",
       "16033   It is a general object of the disclosed inven...   \n",
       "16034   This invention relates to a service unit for ...   \n",
       "16035   Therefore, it is an object of the invention t...   \n",
       "16036   In view of the foregoing, it is an object of ...   \n",
       "\n",
       "                                              firstclaim  \\\n",
       "0      1. A system for drying lumber, the system comp...   \n",
       "1      1. An injector module for a gasifier, said inj...   \n",
       "2      1. A method of copying a classical state of a ...   \n",
       "3      1. A method for manufacturing an organic elect...   \n",
       "4      1. A computed tomography system comprising: \\n...   \n",
       "...                                                  ...   \n",
       "16032  1. A laser beam receiver for detecting the pos...   \n",
       "16033  1. An apparatus for the production of hydrogen...   \n",
       "16034  1. A service unit for resource replenishment i...   \n",
       "16035  1. A system for securing a reversible cleat, c...   \n",
       "16036  1. An image display device comprising: \\na dri...   \n",
       "\n",
       "                                                  claims  \n",
       "0      1. A system for drying lumber, the system comp...  \n",
       "1      1. An injector module for a gasifier, said inj...  \n",
       "2      1. A method of copying a classical state of a ...  \n",
       "3      1. A method for manufacturing an organic elect...  \n",
       "4      1. A computed tomography system comprising: \\n...  \n",
       "...                                                  ...  \n",
       "16032  1. A laser beam receiver for detecting the pos...  \n",
       "16033  1. An apparatus for the production of hydrogen...  \n",
       "16034  1. A service unit for resource replenishment i...  \n",
       "16035  1. A system for securing a reversible cleat, c...  \n",
       "16036  1. An image display device comprising: \\na dri...  \n",
       "\n",
       "[160117 rows x 5 columns]"
      ]
     },
     "execution_count": 13,
     "metadata": {},
     "output_type": "execute_result"
    }
   ],
   "source": [
    "df"
   ]
  },
  {
   "cell_type": "code",
   "execution_count": 14,
   "metadata": {},
   "outputs": [
    {
     "data": {
      "text/plain": [
       "['filter_patents.csv',\n",
       " '.DS_Store',\n",
       " 'test',\n",
       " 'indepn_depn',\n",
       " 'filter_patents_.csv',\n",
       " 'val2006.csv',\n",
       " 'train2006.csv',\n",
       " 'test2006.csv',\n",
       " 'Helper doc.docx',\n",
       " 'train',\n",
       " 'val']"
      ]
     },
     "execution_count": 14,
     "metadata": {},
     "output_type": "execute_result"
    }
   ],
   "source": [
    "os.listdir()"
   ]
  },
  {
   "cell_type": "code",
   "execution_count": 15,
   "metadata": {},
   "outputs": [
    {
     "data": {
      "text/html": [
       "<div>\n",
       "<style scoped>\n",
       "    .dataframe tbody tr th:only-of-type {\n",
       "        vertical-align: middle;\n",
       "    }\n",
       "\n",
       "    .dataframe tbody tr th {\n",
       "        vertical-align: top;\n",
       "    }\n",
       "\n",
       "    .dataframe thead th {\n",
       "        text-align: right;\n",
       "    }\n",
       "</style>\n",
       "<table border=\"1\" class=\"dataframe\">\n",
       "  <thead>\n",
       "    <tr style=\"text-align: right;\">\n",
       "      <th></th>\n",
       "      <th>patent_number</th>\n",
       "      <th>cpc_class</th>\n",
       "    </tr>\n",
       "  </thead>\n",
       "  <tbody>\n",
       "    <tr>\n",
       "      <th>0</th>\n",
       "      <td>US20060118046A1</td>\n",
       "      <td>C</td>\n",
       "    </tr>\n",
       "    <tr>\n",
       "      <th>1</th>\n",
       "      <td>US20060111682A1</td>\n",
       "      <td>A</td>\n",
       "    </tr>\n",
       "    <tr>\n",
       "      <th>2</th>\n",
       "      <td>US20060244941A1</td>\n",
       "      <td>G</td>\n",
       "    </tr>\n",
       "    <tr>\n",
       "      <th>3</th>\n",
       "      <td>US20060150790A1</td>\n",
       "      <td>Y</td>\n",
       "    </tr>\n",
       "    <tr>\n",
       "      <th>4</th>\n",
       "      <td>US20060248922A1</td>\n",
       "      <td>A</td>\n",
       "    </tr>\n",
       "    <tr>\n",
       "      <th>...</th>\n",
       "      <td>...</td>\n",
       "      <td>...</td>\n",
       "    </tr>\n",
       "    <tr>\n",
       "      <th>41066</th>\n",
       "      <td>US20060281685A1</td>\n",
       "      <td>A</td>\n",
       "    </tr>\n",
       "    <tr>\n",
       "      <th>41067</th>\n",
       "      <td>US20060250325A1</td>\n",
       "      <td>G</td>\n",
       "    </tr>\n",
       "    <tr>\n",
       "      <th>41068</th>\n",
       "      <td>US20060214676A1</td>\n",
       "      <td>G</td>\n",
       "    </tr>\n",
       "    <tr>\n",
       "      <th>41069</th>\n",
       "      <td>US20060233254A1</td>\n",
       "      <td>H</td>\n",
       "    </tr>\n",
       "    <tr>\n",
       "      <th>41070</th>\n",
       "      <td>US20060271214A1</td>\n",
       "      <td>A</td>\n",
       "    </tr>\n",
       "  </tbody>\n",
       "</table>\n",
       "<p>41071 rows × 2 columns</p>\n",
       "</div>"
      ],
      "text/plain": [
       "         patent_number cpc_class\n",
       "0      US20060118046A1         C\n",
       "1      US20060111682A1         A\n",
       "2      US20060244941A1         G\n",
       "3      US20060150790A1         Y\n",
       "4      US20060248922A1         A\n",
       "...                ...       ...\n",
       "41066  US20060281685A1         A\n",
       "41067  US20060250325A1         G\n",
       "41068  US20060214676A1         G\n",
       "41069  US20060233254A1         H\n",
       "41070  US20060271214A1         A\n",
       "\n",
       "[41071 rows x 2 columns]"
      ]
     },
     "execution_count": 15,
     "metadata": {},
     "output_type": "execute_result"
    }
   ],
   "source": [
    "filter= pd.read_csv('filter_patents_.csv')\n",
    "filter"
   ]
  },
  {
   "cell_type": "code",
   "execution_count": 18,
   "metadata": {},
   "outputs": [
    {
     "name": "stdout",
     "output_type": "stream",
     "text": [
      "(16109, 5)\n"
     ]
    },
    {
     "data": {
      "text/plain": [
       "(4096, 5)"
      ]
     },
     "execution_count": 18,
     "metadata": {},
     "output_type": "execute_result"
    }
   ],
   "source": [
    "print(val_df.shape)\n",
    ".shape"
   ]
  },
  {
   "cell_type": "code",
   "execution_count": 19,
   "metadata": {},
   "outputs": [
    {
     "name": "stdout",
     "output_type": "stream",
     "text": [
      "(127971, 5)\n"
     ]
    },
    {
     "data": {
      "text/plain": [
       "(32830, 5)"
      ]
     },
     "execution_count": 19,
     "metadata": {},
     "output_type": "execute_result"
    }
   ],
   "source": [
    "print(tr.shape)\n",
    "tr[tr['patent_number'].isin(filter['patent_number'])].shape"
   ]
  },
  {
   "cell_type": "code",
   "execution_count": 20,
   "metadata": {},
   "outputs": [
    {
     "name": "stdout",
     "output_type": "stream",
     "text": [
      "(16037, 5)\n"
     ]
    },
    {
     "data": {
      "text/plain": [
       "(4145, 5)"
      ]
     },
     "execution_count": 20,
     "metadata": {},
     "output_type": "execute_result"
    }
   ],
   "source": [
    "print(ts.shape)\n",
    "ts[ts['patent_number'].isin(filter['patent_number'])].shape"
   ]
  },
  {
   "cell_type": "code",
   "execution_count": 22,
   "metadata": {},
   "outputs": [
    {
     "data": {
      "text/plain": [
       "8.0"
      ]
     },
     "execution_count": 22,
     "metadata": {},
     "output_type": "execute_result"
    }
   ],
   "source": [
    "32000/4000"
   ]
  },
  {
   "cell_type": "code",
   "execution_count": 26,
   "metadata": {},
   "outputs": [
    {
     "data": {
      "text/html": [
       "<div>\n",
       "<style scoped>\n",
       "    .dataframe tbody tr th:only-of-type {\n",
       "        vertical-align: middle;\n",
       "    }\n",
       "\n",
       "    .dataframe tbody tr th {\n",
       "        vertical-align: top;\n",
       "    }\n",
       "\n",
       "    .dataframe thead th {\n",
       "        text-align: right;\n",
       "    }\n",
       "</style>\n",
       "<table border=\"1\" class=\"dataframe\">\n",
       "  <thead>\n",
       "    <tr style=\"text-align: right;\">\n",
       "      <th></th>\n",
       "      <th>patent_number</th>\n",
       "      <th>abstract</th>\n",
       "      <th>summary</th>\n",
       "      <th>firstclaim</th>\n",
       "      <th>claims</th>\n",
       "      <th>cpc_class</th>\n",
       "    </tr>\n",
       "  </thead>\n",
       "  <tbody>\n",
       "    <tr>\n",
       "      <th>0</th>\n",
       "      <td>US20060191158A1</td>\n",
       "      <td>A lumber drying system includes a drying compa...</td>\n",
       "      <td>A system for drying lumber is provided, where...</td>\n",
       "      <td>1. A system for drying lumber, the system comp...</td>\n",
       "      <td>1. A system for drying lumber, the system comp...</td>\n",
       "      <td>F</td>\n",
       "    </tr>\n",
       "    <tr>\n",
       "      <th>1</th>\n",
       "      <td>US20060248618A1</td>\n",
       "      <td>Systems and methods for copying the classical ...</td>\n",
       "      <td>In one embodiment, a method of copying a clas...</td>\n",
       "      <td>1. A method of copying a classical state of a ...</td>\n",
       "      <td>1. A method of copying a classical state of a ...</td>\n",
       "      <td>G</td>\n",
       "    </tr>\n",
       "    <tr>\n",
       "      <th>2</th>\n",
       "      <td>US20060277657A1</td>\n",
       "      <td>A pair of gloves for keeping fingers clean dur...</td>\n",
       "      <td>The long-standing but heretofore unfulfilled ...</td>\n",
       "      <td>1. A glove that protects the fingers from gett...</td>\n",
       "      <td>1. A glove that protects the fingers from gett...</td>\n",
       "      <td>A</td>\n",
       "    </tr>\n",
       "    <tr>\n",
       "      <th>3</th>\n",
       "      <td>US20060228371A1</td>\n",
       "      <td>An antibody and vectorized antibody, capable o...</td>\n",
       "      <td>One aspect of the present invention is an ant...</td>\n",
       "      <td>1. A method for inhibiting the formation of,8-...</td>\n",
       "      <td>1. A method for inhibiting the formation of,8-...</td>\n",
       "      <td>C</td>\n",
       "    </tr>\n",
       "    <tr>\n",
       "      <th>4</th>\n",
       "      <td>US20060276154A1</td>\n",
       "      <td>A unified dual-mode global system for mobile c...</td>\n",
       "      <td>The present invention is related to a unified...</td>\n",
       "      <td>1. A unified dual-mode global standard for mob...</td>\n",
       "      <td>1. A unified dual-mode global standard for mob...</td>\n",
       "      <td>H</td>\n",
       "    </tr>\n",
       "    <tr>\n",
       "      <th>...</th>\n",
       "      <td>...</td>\n",
       "      <td>...</td>\n",
       "      <td>...</td>\n",
       "      <td>...</td>\n",
       "      <td>...</td>\n",
       "      <td>...</td>\n",
       "    </tr>\n",
       "    <tr>\n",
       "      <th>41066</th>\n",
       "      <td>US20060131479A1</td>\n",
       "      <td>A laser beam receiver with non-interdigitated ...</td>\n",
       "      <td>These needs are met by a long laser beam rece...</td>\n",
       "      <td>1. A laser beam receiver for detecting the pos...</td>\n",
       "      <td>1. A laser beam receiver for detecting the pos...</td>\n",
       "      <td>G</td>\n",
       "    </tr>\n",
       "    <tr>\n",
       "      <th>41067</th>\n",
       "      <td>US20060180464A1</td>\n",
       "      <td>An apparatus for the production of hydrogen is...</td>\n",
       "      <td>It is a general object of the disclosed inven...</td>\n",
       "      <td>1. An apparatus for the production of hydrogen...</td>\n",
       "      <td>1. An apparatus for the production of hydrogen...</td>\n",
       "      <td>H</td>\n",
       "    </tr>\n",
       "    <tr>\n",
       "      <th>41068</th>\n",
       "      <td>US20060254670A1</td>\n",
       "      <td>A service unit for resource replenishment in a...</td>\n",
       "      <td>This invention relates to a service unit for ...</td>\n",
       "      <td>1. A service unit for resource replenishment i...</td>\n",
       "      <td>1. A service unit for resource replenishment i...</td>\n",
       "      <td>F</td>\n",
       "    </tr>\n",
       "    <tr>\n",
       "      <th>41069</th>\n",
       "      <td>US20060277800A1</td>\n",
       "      <td>The invention relates to a system for securing...</td>\n",
       "      <td>Therefore, it is an object of the invention t...</td>\n",
       "      <td>1. A system for securing a reversible cleat, c...</td>\n",
       "      <td>1. A system for securing a reversible cleat, c...</td>\n",
       "      <td>A</td>\n",
       "    </tr>\n",
       "    <tr>\n",
       "      <th>41070</th>\n",
       "      <td>US20060238451A1</td>\n",
       "      <td>Disclosed is an image display device that is c...</td>\n",
       "      <td>In view of the foregoing, it is an object of ...</td>\n",
       "      <td>1. An image display device comprising: \\na dri...</td>\n",
       "      <td>1. An image display device comprising: \\na dri...</td>\n",
       "      <td>G</td>\n",
       "    </tr>\n",
       "  </tbody>\n",
       "</table>\n",
       "<p>41071 rows × 6 columns</p>\n",
       "</div>"
      ],
      "text/plain": [
       "         patent_number                                           abstract  \\\n",
       "0      US20060191158A1  A lumber drying system includes a drying compa...   \n",
       "1      US20060248618A1  Systems and methods for copying the classical ...   \n",
       "2      US20060277657A1  A pair of gloves for keeping fingers clean dur...   \n",
       "3      US20060228371A1  An antibody and vectorized antibody, capable o...   \n",
       "4      US20060276154A1  A unified dual-mode global system for mobile c...   \n",
       "...                ...                                                ...   \n",
       "41066  US20060131479A1  A laser beam receiver with non-interdigitated ...   \n",
       "41067  US20060180464A1  An apparatus for the production of hydrogen is...   \n",
       "41068  US20060254670A1  A service unit for resource replenishment in a...   \n",
       "41069  US20060277800A1  The invention relates to a system for securing...   \n",
       "41070  US20060238451A1  Disclosed is an image display device that is c...   \n",
       "\n",
       "                                                 summary  \\\n",
       "0       A system for drying lumber is provided, where...   \n",
       "1       In one embodiment, a method of copying a clas...   \n",
       "2       The long-standing but heretofore unfulfilled ...   \n",
       "3       One aspect of the present invention is an ant...   \n",
       "4       The present invention is related to a unified...   \n",
       "...                                                  ...   \n",
       "41066   These needs are met by a long laser beam rece...   \n",
       "41067   It is a general object of the disclosed inven...   \n",
       "41068   This invention relates to a service unit for ...   \n",
       "41069   Therefore, it is an object of the invention t...   \n",
       "41070   In view of the foregoing, it is an object of ...   \n",
       "\n",
       "                                              firstclaim  \\\n",
       "0      1. A system for drying lumber, the system comp...   \n",
       "1      1. A method of copying a classical state of a ...   \n",
       "2      1. A glove that protects the fingers from gett...   \n",
       "3      1. A method for inhibiting the formation of,8-...   \n",
       "4      1. A unified dual-mode global standard for mob...   \n",
       "...                                                  ...   \n",
       "41066  1. A laser beam receiver for detecting the pos...   \n",
       "41067  1. An apparatus for the production of hydrogen...   \n",
       "41068  1. A service unit for resource replenishment i...   \n",
       "41069  1. A system for securing a reversible cleat, c...   \n",
       "41070  1. An image display device comprising: \\na dri...   \n",
       "\n",
       "                                                  claims cpc_class  \n",
       "0      1. A system for drying lumber, the system comp...         F  \n",
       "1      1. A method of copying a classical state of a ...         G  \n",
       "2      1. A glove that protects the fingers from gett...         A  \n",
       "3      1. A method for inhibiting the formation of,8-...         C  \n",
       "4      1. A unified dual-mode global standard for mob...         H  \n",
       "...                                                  ...       ...  \n",
       "41066  1. A laser beam receiver for detecting the pos...         G  \n",
       "41067  1. An apparatus for the production of hydrogen...         H  \n",
       "41068  1. A service unit for resource replenishment i...         F  \n",
       "41069  1. A system for securing a reversible cleat, c...         A  \n",
       "41070  1. An image display device comprising: \\na dri...         G  \n",
       "\n",
       "[41071 rows x 6 columns]"
      ]
     },
     "execution_count": 26,
     "metadata": {},
     "output_type": "execute_result"
    }
   ],
   "source": [
    "pd.merge(df, filter)"
   ]
  },
  {
   "cell_type": "code",
   "execution_count": 27,
   "metadata": {},
   "outputs": [
    {
     "data": {
      "text/html": [
       "<div>\n",
       "<style scoped>\n",
       "    .dataframe tbody tr th:only-of-type {\n",
       "        vertical-align: middle;\n",
       "    }\n",
       "\n",
       "    .dataframe tbody tr th {\n",
       "        vertical-align: top;\n",
       "    }\n",
       "\n",
       "    .dataframe thead th {\n",
       "        text-align: right;\n",
       "    }\n",
       "</style>\n",
       "<table border=\"1\" class=\"dataframe\">\n",
       "  <thead>\n",
       "    <tr style=\"text-align: right;\">\n",
       "      <th></th>\n",
       "      <th>patent_number</th>\n",
       "      <th>abstract</th>\n",
       "      <th>summary</th>\n",
       "      <th>firstclaim</th>\n",
       "      <th>claims</th>\n",
       "      <th>cpc_class</th>\n",
       "    </tr>\n",
       "  </thead>\n",
       "  <tbody>\n",
       "    <tr>\n",
       "      <th>0</th>\n",
       "      <td>US20060191158A1</td>\n",
       "      <td>A lumber drying system includes a drying compa...</td>\n",
       "      <td>A system for drying lumber is provided, where...</td>\n",
       "      <td>1. A system for drying lumber, the system comp...</td>\n",
       "      <td>1. A system for drying lumber, the system comp...</td>\n",
       "      <td>F</td>\n",
       "    </tr>\n",
       "    <tr>\n",
       "      <th>1</th>\n",
       "      <td>US20060248618A1</td>\n",
       "      <td>Systems and methods for copying the classical ...</td>\n",
       "      <td>In one embodiment, a method of copying a clas...</td>\n",
       "      <td>1. A method of copying a classical state of a ...</td>\n",
       "      <td>1. A method of copying a classical state of a ...</td>\n",
       "      <td>G</td>\n",
       "    </tr>\n",
       "    <tr>\n",
       "      <th>2</th>\n",
       "      <td>US20060277657A1</td>\n",
       "      <td>A pair of gloves for keeping fingers clean dur...</td>\n",
       "      <td>The long-standing but heretofore unfulfilled ...</td>\n",
       "      <td>1. A glove that protects the fingers from gett...</td>\n",
       "      <td>1. A glove that protects the fingers from gett...</td>\n",
       "      <td>A</td>\n",
       "    </tr>\n",
       "    <tr>\n",
       "      <th>3</th>\n",
       "      <td>US20060228371A1</td>\n",
       "      <td>An antibody and vectorized antibody, capable o...</td>\n",
       "      <td>One aspect of the present invention is an ant...</td>\n",
       "      <td>1. A method for inhibiting the formation of,8-...</td>\n",
       "      <td>1. A method for inhibiting the formation of,8-...</td>\n",
       "      <td>C</td>\n",
       "    </tr>\n",
       "    <tr>\n",
       "      <th>4</th>\n",
       "      <td>US20060276154A1</td>\n",
       "      <td>A unified dual-mode global system for mobile c...</td>\n",
       "      <td>The present invention is related to a unified...</td>\n",
       "      <td>1. A unified dual-mode global standard for mob...</td>\n",
       "      <td>1. A unified dual-mode global standard for mob...</td>\n",
       "      <td>H</td>\n",
       "    </tr>\n",
       "    <tr>\n",
       "      <th>...</th>\n",
       "      <td>...</td>\n",
       "      <td>...</td>\n",
       "      <td>...</td>\n",
       "      <td>...</td>\n",
       "      <td>...</td>\n",
       "      <td>...</td>\n",
       "    </tr>\n",
       "    <tr>\n",
       "      <th>4091</th>\n",
       "      <td>US20060291870A1</td>\n",
       "      <td>Signals in an optical communications network, ...</td>\n",
       "      <td>According to one aspect of this invention the...</td>\n",
       "      <td>1. A method of identifying a signal in an opti...</td>\n",
       "      <td>1. A method of identifying a signal in an opti...</td>\n",
       "      <td>H</td>\n",
       "    </tr>\n",
       "    <tr>\n",
       "      <th>4092</th>\n",
       "      <td>US20060289153A1</td>\n",
       "      <td>An assembly of baffles and seals for mounting ...</td>\n",
       "      <td>It is an object of the present invention to p...</td>\n",
       "      <td>1. An assembly of baffles and seals for mounti...</td>\n",
       "      <td>1. An assembly of baffles and seals for mounti...</td>\n",
       "      <td>F</td>\n",
       "    </tr>\n",
       "    <tr>\n",
       "      <th>4093</th>\n",
       "      <td>US20060259324A1</td>\n",
       "      <td>A method for adjudicating and reimbursing a ca...</td>\n",
       "      <td>The invention overcoming these and other prob...</td>\n",
       "      <td>1. A method in a computing environment for adj...</td>\n",
       "      <td>1. A method in a computing environment for adj...</td>\n",
       "      <td>G</td>\n",
       "    </tr>\n",
       "    <tr>\n",
       "      <th>4094</th>\n",
       "      <td>US20060258138A1</td>\n",
       "      <td>Methods for fabricating fluid injection device...</td>\n",
       "      <td>Methods for fabricating fluid injector device...</td>\n",
       "      <td>1. A method for fabricating a fluid injection ...</td>\n",
       "      <td>1. A method for fabricating a fluid injection ...</td>\n",
       "      <td>B</td>\n",
       "    </tr>\n",
       "    <tr>\n",
       "      <th>4095</th>\n",
       "      <td>US20060192258A1</td>\n",
       "      <td>A semiconductor device includes a semiconducto...</td>\n",
       "      <td>In view of the circumstances set forth above,...</td>\n",
       "      <td>1. A semiconductor device comprising: \\na semi...</td>\n",
       "      <td>1. A semiconductor device comprising: \\na semi...</td>\n",
       "      <td>H</td>\n",
       "    </tr>\n",
       "  </tbody>\n",
       "</table>\n",
       "<p>4096 rows × 6 columns</p>\n",
       "</div>"
      ],
      "text/plain": [
       "        patent_number                                           abstract  \\\n",
       "0     US20060191158A1  A lumber drying system includes a drying compa...   \n",
       "1     US20060248618A1  Systems and methods for copying the classical ...   \n",
       "2     US20060277657A1  A pair of gloves for keeping fingers clean dur...   \n",
       "3     US20060228371A1  An antibody and vectorized antibody, capable o...   \n",
       "4     US20060276154A1  A unified dual-mode global system for mobile c...   \n",
       "...               ...                                                ...   \n",
       "4091  US20060291870A1  Signals in an optical communications network, ...   \n",
       "4092  US20060289153A1  An assembly of baffles and seals for mounting ...   \n",
       "4093  US20060259324A1  A method for adjudicating and reimbursing a ca...   \n",
       "4094  US20060258138A1  Methods for fabricating fluid injection device...   \n",
       "4095  US20060192258A1  A semiconductor device includes a semiconducto...   \n",
       "\n",
       "                                                summary  \\\n",
       "0      A system for drying lumber is provided, where...   \n",
       "1      In one embodiment, a method of copying a clas...   \n",
       "2      The long-standing but heretofore unfulfilled ...   \n",
       "3      One aspect of the present invention is an ant...   \n",
       "4      The present invention is related to a unified...   \n",
       "...                                                 ...   \n",
       "4091   According to one aspect of this invention the...   \n",
       "4092   It is an object of the present invention to p...   \n",
       "4093   The invention overcoming these and other prob...   \n",
       "4094   Methods for fabricating fluid injector device...   \n",
       "4095   In view of the circumstances set forth above,...   \n",
       "\n",
       "                                             firstclaim  \\\n",
       "0     1. A system for drying lumber, the system comp...   \n",
       "1     1. A method of copying a classical state of a ...   \n",
       "2     1. A glove that protects the fingers from gett...   \n",
       "3     1. A method for inhibiting the formation of,8-...   \n",
       "4     1. A unified dual-mode global standard for mob...   \n",
       "...                                                 ...   \n",
       "4091  1. A method of identifying a signal in an opti...   \n",
       "4092  1. An assembly of baffles and seals for mounti...   \n",
       "4093  1. A method in a computing environment for adj...   \n",
       "4094  1. A method for fabricating a fluid injection ...   \n",
       "4095  1. A semiconductor device comprising: \\na semi...   \n",
       "\n",
       "                                                 claims cpc_class  \n",
       "0     1. A system for drying lumber, the system comp...         F  \n",
       "1     1. A method of copying a classical state of a ...         G  \n",
       "2     1. A glove that protects the fingers from gett...         A  \n",
       "3     1. A method for inhibiting the formation of,8-...         C  \n",
       "4     1. A unified dual-mode global standard for mob...         H  \n",
       "...                                                 ...       ...  \n",
       "4091  1. A method of identifying a signal in an opti...         H  \n",
       "4092  1. An assembly of baffles and seals for mounti...         F  \n",
       "4093  1. A method in a computing environment for adj...         G  \n",
       "4094  1. A method for fabricating a fluid injection ...         B  \n",
       "4095  1. A semiconductor device comprising: \\na semi...         H  \n",
       "\n",
       "[4096 rows x 6 columns]"
      ]
     },
     "execution_count": 27,
     "metadata": {},
     "output_type": "execute_result"
    }
   ],
   "source": [
    "val_df= pd.merge(val_df, filter)\n",
    "val_df"
   ]
  },
  {
   "cell_type": "code",
   "execution_count": 28,
   "metadata": {},
   "outputs": [
    {
     "data": {
      "text/html": [
       "<div>\n",
       "<style scoped>\n",
       "    .dataframe tbody tr th:only-of-type {\n",
       "        vertical-align: middle;\n",
       "    }\n",
       "\n",
       "    .dataframe tbody tr th {\n",
       "        vertical-align: top;\n",
       "    }\n",
       "\n",
       "    .dataframe thead th {\n",
       "        text-align: right;\n",
       "    }\n",
       "</style>\n",
       "<table border=\"1\" class=\"dataframe\">\n",
       "  <thead>\n",
       "    <tr style=\"text-align: right;\">\n",
       "      <th></th>\n",
       "      <th>patent_number</th>\n",
       "      <th>abstract</th>\n",
       "      <th>summary</th>\n",
       "      <th>firstclaim</th>\n",
       "      <th>claims</th>\n",
       "      <th>cpc_class</th>\n",
       "    </tr>\n",
       "  </thead>\n",
       "  <tbody>\n",
       "    <tr>\n",
       "      <th>0</th>\n",
       "      <td>US20060197581A1</td>\n",
       "      <td>A high precision temperature detecting circuit...</td>\n",
       "      <td>In view of the problems described above, the ...</td>\n",
       "      <td>1. A temperature detecting circuit, comprising...</td>\n",
       "      <td>1. A temperature detecting circuit, comprising...</td>\n",
       "      <td>G</td>\n",
       "    </tr>\n",
       "    <tr>\n",
       "      <th>1</th>\n",
       "      <td>US20060264277A1</td>\n",
       "      <td>The present invention provides a lacrosse stic...</td>\n",
       "      <td>An embodiment of the present invention provid...</td>\n",
       "      <td>1. A lacrosse head, comprising: \\na throat por...</td>\n",
       "      <td>1. A lacrosse head, comprising: \\na throat por...</td>\n",
       "      <td>A</td>\n",
       "    </tr>\n",
       "    <tr>\n",
       "      <th>2</th>\n",
       "      <td>US20060252070A1</td>\n",
       "      <td>Methods for biological sample multi-color ligh...</td>\n",
       "      <td>In various embodiments, the present teachings...</td>\n",
       "      <td>1. A method for detection for a biological sam...</td>\n",
       "      <td>1. A method for detection for a biological sam...</td>\n",
       "      <td>G</td>\n",
       "    </tr>\n",
       "    <tr>\n",
       "      <th>3</th>\n",
       "      <td>US20060249404A1</td>\n",
       "      <td>A transparent travel hatbox includes a substan...</td>\n",
       "      <td>1. Field \\n This invention pertains generally...</td>\n",
       "      <td>1. A hatbox, comprising: \\na substantially tra...</td>\n",
       "      <td>1. A hatbox, comprising: \\na substantially tra...</td>\n",
       "      <td>A</td>\n",
       "    </tr>\n",
       "    <tr>\n",
       "      <th>4</th>\n",
       "      <td>US20060152210A1</td>\n",
       "      <td>An integrated circuit current sensor includes ...</td>\n",
       "      <td>In accordance with the present invention, an ...</td>\n",
       "      <td>1. An integrated circuit, comprising: \\na lead...</td>\n",
       "      <td>1. An integrated circuit, comprising: \\na lead...</td>\n",
       "      <td>H</td>\n",
       "    </tr>\n",
       "    <tr>\n",
       "      <th>...</th>\n",
       "      <td>...</td>\n",
       "      <td>...</td>\n",
       "      <td>...</td>\n",
       "      <td>...</td>\n",
       "      <td>...</td>\n",
       "      <td>...</td>\n",
       "    </tr>\n",
       "    <tr>\n",
       "      <th>32825</th>\n",
       "      <td>US20060288650A1</td>\n",
       "      <td>A method for controlling a viscosity of a slur...</td>\n",
       "      <td>The present invention has been developed in v...</td>\n",
       "      <td>1. A method for controlling a viscosity of a s...</td>\n",
       "      <td>1. A method for controlling a viscosity of a s...</td>\n",
       "      <td>B</td>\n",
       "    </tr>\n",
       "    <tr>\n",
       "      <th>32826</th>\n",
       "      <td>US20060138631A1</td>\n",
       "      <td>The present invention relates to a multi-chip ...</td>\n",
       "      <td>One objective of the present invention is to ...</td>\n",
       "      <td>1. A multi-chip package structure comprising: ...</td>\n",
       "      <td>1. A multi-chip package structure comprising: ...</td>\n",
       "      <td>H</td>\n",
       "    </tr>\n",
       "    <tr>\n",
       "      <th>32827</th>\n",
       "      <td>US20060284118A1</td>\n",
       "      <td>An apparatus and process for manufacturing cha...</td>\n",
       "      <td>The present invention relates to a process fo...</td>\n",
       "      <td>1. A process for manufacturing changes of a su...</td>\n",
       "      <td>1. A process for manufacturing changes of a su...</td>\n",
       "      <td>H</td>\n",
       "    </tr>\n",
       "    <tr>\n",
       "      <th>32828</th>\n",
       "      <td>US20060267177A1</td>\n",
       "      <td>A semiconductor device assembly and method of ...</td>\n",
       "      <td>One exemplary embodiment of the invention com...</td>\n",
       "      <td>1. A semiconductor device assembly, comprising...</td>\n",
       "      <td>1. A semiconductor device assembly, comprising...</td>\n",
       "      <td>H</td>\n",
       "    </tr>\n",
       "    <tr>\n",
       "      <th>32829</th>\n",
       "      <td>US20060204949A1</td>\n",
       "      <td>Methods, devices, apparatus, computer-readable...</td>\n",
       "      <td>Thus, devices, methods, apparatus, computer-r...</td>\n",
       "      <td>1. A method for providing user-assistance demo...</td>\n",
       "      <td>1. A method for providing user-assistance demo...</td>\n",
       "      <td>H</td>\n",
       "    </tr>\n",
       "  </tbody>\n",
       "</table>\n",
       "<p>32830 rows × 6 columns</p>\n",
       "</div>"
      ],
      "text/plain": [
       "         patent_number                                           abstract  \\\n",
       "0      US20060197581A1  A high precision temperature detecting circuit...   \n",
       "1      US20060264277A1  The present invention provides a lacrosse stic...   \n",
       "2      US20060252070A1  Methods for biological sample multi-color ligh...   \n",
       "3      US20060249404A1  A transparent travel hatbox includes a substan...   \n",
       "4      US20060152210A1  An integrated circuit current sensor includes ...   \n",
       "...                ...                                                ...   \n",
       "32825  US20060288650A1  A method for controlling a viscosity of a slur...   \n",
       "32826  US20060138631A1  The present invention relates to a multi-chip ...   \n",
       "32827  US20060284118A1  An apparatus and process for manufacturing cha...   \n",
       "32828  US20060267177A1  A semiconductor device assembly and method of ...   \n",
       "32829  US20060204949A1  Methods, devices, apparatus, computer-readable...   \n",
       "\n",
       "                                                 summary  \\\n",
       "0       In view of the problems described above, the ...   \n",
       "1       An embodiment of the present invention provid...   \n",
       "2       In various embodiments, the present teachings...   \n",
       "3       1. Field \\n This invention pertains generally...   \n",
       "4       In accordance with the present invention, an ...   \n",
       "...                                                  ...   \n",
       "32825   The present invention has been developed in v...   \n",
       "32826   One objective of the present invention is to ...   \n",
       "32827   The present invention relates to a process fo...   \n",
       "32828   One exemplary embodiment of the invention com...   \n",
       "32829   Thus, devices, methods, apparatus, computer-r...   \n",
       "\n",
       "                                              firstclaim  \\\n",
       "0      1. A temperature detecting circuit, comprising...   \n",
       "1      1. A lacrosse head, comprising: \\na throat por...   \n",
       "2      1. A method for detection for a biological sam...   \n",
       "3      1. A hatbox, comprising: \\na substantially tra...   \n",
       "4      1. An integrated circuit, comprising: \\na lead...   \n",
       "...                                                  ...   \n",
       "32825  1. A method for controlling a viscosity of a s...   \n",
       "32826  1. A multi-chip package structure comprising: ...   \n",
       "32827  1. A process for manufacturing changes of a su...   \n",
       "32828  1. A semiconductor device assembly, comprising...   \n",
       "32829  1. A method for providing user-assistance demo...   \n",
       "\n",
       "                                                  claims cpc_class  \n",
       "0      1. A temperature detecting circuit, comprising...         G  \n",
       "1      1. A lacrosse head, comprising: \\na throat por...         A  \n",
       "2      1. A method for detection for a biological sam...         G  \n",
       "3      1. A hatbox, comprising: \\na substantially tra...         A  \n",
       "4      1. An integrated circuit, comprising: \\na lead...         H  \n",
       "...                                                  ...       ...  \n",
       "32825  1. A method for controlling a viscosity of a s...         B  \n",
       "32826  1. A multi-chip package structure comprising: ...         H  \n",
       "32827  1. A process for manufacturing changes of a su...         H  \n",
       "32828  1. A semiconductor device assembly, comprising...         H  \n",
       "32829  1. A method for providing user-assistance demo...         H  \n",
       "\n",
       "[32830 rows x 6 columns]"
      ]
     },
     "execution_count": 28,
     "metadata": {},
     "output_type": "execute_result"
    }
   ],
   "source": [
    "tr= pd.merge(tr, filter)\n",
    "tr"
   ]
  },
  {
   "cell_type": "code",
   "execution_count": 29,
   "metadata": {},
   "outputs": [
    {
     "data": {
      "text/html": [
       "<div>\n",
       "<style scoped>\n",
       "    .dataframe tbody tr th:only-of-type {\n",
       "        vertical-align: middle;\n",
       "    }\n",
       "\n",
       "    .dataframe tbody tr th {\n",
       "        vertical-align: top;\n",
       "    }\n",
       "\n",
       "    .dataframe thead th {\n",
       "        text-align: right;\n",
       "    }\n",
       "</style>\n",
       "<table border=\"1\" class=\"dataframe\">\n",
       "  <thead>\n",
       "    <tr style=\"text-align: right;\">\n",
       "      <th></th>\n",
       "      <th>patent_number</th>\n",
       "      <th>abstract</th>\n",
       "      <th>summary</th>\n",
       "      <th>firstclaim</th>\n",
       "      <th>claims</th>\n",
       "      <th>cpc_class</th>\n",
       "    </tr>\n",
       "  </thead>\n",
       "  <tbody>\n",
       "    <tr>\n",
       "      <th>0</th>\n",
       "      <td>US20060200002A1</td>\n",
       "      <td>A tubular access sleeve and suction tool for a...</td>\n",
       "      <td>One aspect of the present invention provides ...</td>\n",
       "      <td>1. A method of accessing an anatomic space of ...</td>\n",
       "      <td>1. A method of accessing an anatomic space of ...</td>\n",
       "      <td>A</td>\n",
       "    </tr>\n",
       "    <tr>\n",
       "      <th>1</th>\n",
       "      <td>US20060221139A1</td>\n",
       "      <td>The present invention is intended to alleviate...</td>\n",
       "      <td>An object of the present invention is to prov...</td>\n",
       "      <td>1. An ink jet print head comprising: \\na heate...</td>\n",
       "      <td>1. An ink jet print head comprising: \\na heate...</td>\n",
       "      <td>B</td>\n",
       "    </tr>\n",
       "    <tr>\n",
       "      <th>2</th>\n",
       "      <td>US20060237988A1</td>\n",
       "      <td>While a corner part 35 of a skin 7 formed betw...</td>\n",
       "      <td>The present invention has been made to solve ...</td>\n",
       "      <td>1. An integral skin interior trim comprising: ...</td>\n",
       "      <td>1. An integral skin interior trim comprising: ...</td>\n",
       "      <td>B</td>\n",
       "    </tr>\n",
       "    <tr>\n",
       "      <th>3</th>\n",
       "      <td>US20060281832A1</td>\n",
       "      <td>The dissolution of polymeric drag reducing age...</td>\n",
       "      <td>There is provided, in one non-limiting form, ...</td>\n",
       "      <td>1. A process for forming polymer drag reducing...</td>\n",
       "      <td>1. A process for forming polymer drag reducing...</td>\n",
       "      <td>C</td>\n",
       "    </tr>\n",
       "    <tr>\n",
       "      <th>4</th>\n",
       "      <td>US20060279090A1</td>\n",
       "      <td>A vehicle door lock (1) having a fork (2) whic...</td>\n",
       "      <td>It is an object of the present invention to p...</td>\n",
       "      <td>1. A vehicle door lock (1) releasably connecta...</td>\n",
       "      <td>1. A vehicle door lock (1) releasably connecta...</td>\n",
       "      <td>E</td>\n",
       "    </tr>\n",
       "    <tr>\n",
       "      <th>...</th>\n",
       "      <td>...</td>\n",
       "      <td>...</td>\n",
       "      <td>...</td>\n",
       "      <td>...</td>\n",
       "      <td>...</td>\n",
       "      <td>...</td>\n",
       "    </tr>\n",
       "    <tr>\n",
       "      <th>4140</th>\n",
       "      <td>US20060131479A1</td>\n",
       "      <td>A laser beam receiver with non-interdigitated ...</td>\n",
       "      <td>These needs are met by a long laser beam rece...</td>\n",
       "      <td>1. A laser beam receiver for detecting the pos...</td>\n",
       "      <td>1. A laser beam receiver for detecting the pos...</td>\n",
       "      <td>G</td>\n",
       "    </tr>\n",
       "    <tr>\n",
       "      <th>4141</th>\n",
       "      <td>US20060180464A1</td>\n",
       "      <td>An apparatus for the production of hydrogen is...</td>\n",
       "      <td>It is a general object of the disclosed inven...</td>\n",
       "      <td>1. An apparatus for the production of hydrogen...</td>\n",
       "      <td>1. An apparatus for the production of hydrogen...</td>\n",
       "      <td>H</td>\n",
       "    </tr>\n",
       "    <tr>\n",
       "      <th>4142</th>\n",
       "      <td>US20060254670A1</td>\n",
       "      <td>A service unit for resource replenishment in a...</td>\n",
       "      <td>This invention relates to a service unit for ...</td>\n",
       "      <td>1. A service unit for resource replenishment i...</td>\n",
       "      <td>1. A service unit for resource replenishment i...</td>\n",
       "      <td>F</td>\n",
       "    </tr>\n",
       "    <tr>\n",
       "      <th>4143</th>\n",
       "      <td>US20060277800A1</td>\n",
       "      <td>The invention relates to a system for securing...</td>\n",
       "      <td>Therefore, it is an object of the invention t...</td>\n",
       "      <td>1. A system for securing a reversible cleat, c...</td>\n",
       "      <td>1. A system for securing a reversible cleat, c...</td>\n",
       "      <td>A</td>\n",
       "    </tr>\n",
       "    <tr>\n",
       "      <th>4144</th>\n",
       "      <td>US20060238451A1</td>\n",
       "      <td>Disclosed is an image display device that is c...</td>\n",
       "      <td>In view of the foregoing, it is an object of ...</td>\n",
       "      <td>1. An image display device comprising: \\na dri...</td>\n",
       "      <td>1. An image display device comprising: \\na dri...</td>\n",
       "      <td>G</td>\n",
       "    </tr>\n",
       "  </tbody>\n",
       "</table>\n",
       "<p>4145 rows × 6 columns</p>\n",
       "</div>"
      ],
      "text/plain": [
       "        patent_number                                           abstract  \\\n",
       "0     US20060200002A1  A tubular access sleeve and suction tool for a...   \n",
       "1     US20060221139A1  The present invention is intended to alleviate...   \n",
       "2     US20060237988A1  While a corner part 35 of a skin 7 formed betw...   \n",
       "3     US20060281832A1  The dissolution of polymeric drag reducing age...   \n",
       "4     US20060279090A1  A vehicle door lock (1) having a fork (2) whic...   \n",
       "...               ...                                                ...   \n",
       "4140  US20060131479A1  A laser beam receiver with non-interdigitated ...   \n",
       "4141  US20060180464A1  An apparatus for the production of hydrogen is...   \n",
       "4142  US20060254670A1  A service unit for resource replenishment in a...   \n",
       "4143  US20060277800A1  The invention relates to a system for securing...   \n",
       "4144  US20060238451A1  Disclosed is an image display device that is c...   \n",
       "\n",
       "                                                summary  \\\n",
       "0      One aspect of the present invention provides ...   \n",
       "1      An object of the present invention is to prov...   \n",
       "2      The present invention has been made to solve ...   \n",
       "3      There is provided, in one non-limiting form, ...   \n",
       "4      It is an object of the present invention to p...   \n",
       "...                                                 ...   \n",
       "4140   These needs are met by a long laser beam rece...   \n",
       "4141   It is a general object of the disclosed inven...   \n",
       "4142   This invention relates to a service unit for ...   \n",
       "4143   Therefore, it is an object of the invention t...   \n",
       "4144   In view of the foregoing, it is an object of ...   \n",
       "\n",
       "                                             firstclaim  \\\n",
       "0     1. A method of accessing an anatomic space of ...   \n",
       "1     1. An ink jet print head comprising: \\na heate...   \n",
       "2     1. An integral skin interior trim comprising: ...   \n",
       "3     1. A process for forming polymer drag reducing...   \n",
       "4     1. A vehicle door lock (1) releasably connecta...   \n",
       "...                                                 ...   \n",
       "4140  1. A laser beam receiver for detecting the pos...   \n",
       "4141  1. An apparatus for the production of hydrogen...   \n",
       "4142  1. A service unit for resource replenishment i...   \n",
       "4143  1. A system for securing a reversible cleat, c...   \n",
       "4144  1. An image display device comprising: \\na dri...   \n",
       "\n",
       "                                                 claims cpc_class  \n",
       "0     1. A method of accessing an anatomic space of ...         A  \n",
       "1     1. An ink jet print head comprising: \\na heate...         B  \n",
       "2     1. An integral skin interior trim comprising: ...         B  \n",
       "3     1. A process for forming polymer drag reducing...         C  \n",
       "4     1. A vehicle door lock (1) releasably connecta...         E  \n",
       "...                                                 ...       ...  \n",
       "4140  1. A laser beam receiver for detecting the pos...         G  \n",
       "4141  1. An apparatus for the production of hydrogen...         H  \n",
       "4142  1. A service unit for resource replenishment i...         F  \n",
       "4143  1. A system for securing a reversible cleat, c...         A  \n",
       "4144  1. An image display device comprising: \\na dri...         G  \n",
       "\n",
       "[4145 rows x 6 columns]"
      ]
     },
     "execution_count": 29,
     "metadata": {},
     "output_type": "execute_result"
    }
   ],
   "source": [
    "ts= pd.merge(ts, filter)\n",
    "ts"
   ]
  },
  {
   "cell_type": "code",
   "execution_count": 30,
   "metadata": {},
   "outputs": [
    {
     "data": {
      "text/plain": [
       "['filter_patents.csv',\n",
       " '.DS_Store',\n",
       " 'test',\n",
       " 'indepn_depn',\n",
       " 'filter_patents_.csv',\n",
       " 'val2006.csv',\n",
       " 'train2006.csv',\n",
       " 'test2006.csv',\n",
       " 'Helper doc.docx',\n",
       " 'train',\n",
       " 'val']"
      ]
     },
     "execution_count": 30,
     "metadata": {},
     "output_type": "execute_result"
    }
   ],
   "source": [
    "os.listdir()"
   ]
  },
  {
   "cell_type": "code",
   "execution_count": 31,
   "metadata": {},
   "outputs": [],
   "source": [
    "ts.to_csv('test_sample.csv', index=False)\n",
    "tr.to_csv('train_sample.csv', index=False)\n",
    "val_df.to_csv('val_sample.csv', index=False)"
   ]
  },
  {
   "cell_type": "code",
   "execution_count": 32,
   "metadata": {},
   "outputs": [
    {
     "data": {
      "text/plain": [
       "G    1134\n",
       "H    1096\n",
       "A     627\n",
       "B     540\n",
       "C     235\n",
       "F     226\n",
       "Y     169\n",
       "E      94\n",
       "D      24\n",
       "Name: cpc_class, dtype: int64"
      ]
     },
     "execution_count": 32,
     "metadata": {},
     "output_type": "execute_result"
    }
   ],
   "source": [
    "ts['cpc_class'].value_counts()"
   ]
  },
  {
   "cell_type": "code",
   "execution_count": 33,
   "metadata": {},
   "outputs": [
    {
     "data": {
      "text/plain": [
       "G    8994\n",
       "H    8938\n",
       "A    4632\n",
       "B    4239\n",
       "C    1928\n",
       "F    1864\n",
       "Y    1319\n",
       "E     713\n",
       "D     203\n",
       "Name: cpc_class, dtype: int64"
      ]
     },
     "execution_count": 33,
     "metadata": {},
     "output_type": "execute_result"
    }
   ],
   "source": [
    "tr['cpc_class'].value_counts()"
   ]
  },
  {
   "cell_type": "code",
   "execution_count": 35,
   "metadata": {},
   "outputs": [
    {
     "data": {
      "text/plain": [
       "H    1172\n",
       "G    1151\n",
       "A     579\n",
       "B     493\n",
       "F     225\n",
       "C     218\n",
       "Y     137\n",
       "E     105\n",
       "D      16\n",
       "Name: cpc_class, dtype: int64"
      ]
     },
     "execution_count": 35,
     "metadata": {},
     "output_type": "execute_result"
    }
   ],
   "source": [
    "val_df['cpc_class'].value_counts()"
   ]
  },
  {
   "cell_type": "code",
   "execution_count": 37,
   "metadata": {},
   "outputs": [
    {
     "data": {
      "text/plain": [
       "140.0"
      ]
     },
     "execution_count": 37,
     "metadata": {},
     "output_type": "execute_result"
    }
   ],
   "source": []
  },
  {
   "cell_type": "code",
   "execution_count": 38,
   "metadata": {},
   "outputs": [
    {
     "data": {
      "text/plain": [
       "(1260, 6)"
      ]
     },
     "execution_count": 38,
     "metadata": {},
     "output_type": "execute_result"
    }
   ],
   "source": [
    "def sample_per_class(df, column, n_samples):\n",
    "    \"\"\"\n",
    "    Sample n_samples from each class of a DataFrame.\n",
    "\n",
    "    Parameters:\n",
    "    - df: DataFrame, the original dataframe.\n",
    "    - column: str, the name of the column to group by (class).\n",
    "    - n_samples: int, number of samples to take from each group.\n",
    "\n",
    "    Returns:\n",
    "    - sampled_df: DataFrame, containing n_samples from each class.\n",
    "    \"\"\"\n",
    "    # Group by the class column and sample n_samples from each group\n",
    "    sampled_df = df.groupby(column).apply(lambda x: x.sample(n=min(len(x), n_samples), random_state=1)).reset_index(drop=True)\n",
    "    return sampled_df\n",
    "\n",
    "# Usage of the function\n",
    "# Assuming df is the DataFrame containing the 'cpc_class' column\n",
    "trs = sample_per_class(tr, 'cpc_class', 140)\n",
    "trs.shape"
   ]
  },
  {
   "cell_type": "code",
   "execution_count": 39,
   "metadata": {},
   "outputs": [
    {
     "data": {
      "text/plain": [
       "(900, 6)"
      ]
     },
     "execution_count": 39,
     "metadata": {},
     "output_type": "execute_result"
    }
   ],
   "source": [
    "trs = sample_per_class(tr, 'cpc_class', 100)\n",
    "trs.shape"
   ]
  },
  {
   "cell_type": "code",
   "execution_count": 41,
   "metadata": {},
   "outputs": [
    {
     "data": {
      "text/plain": [
       "(135, 6)"
      ]
     },
     "execution_count": 41,
     "metadata": {},
     "output_type": "execute_result"
    }
   ],
   "source": [
    "tss = sample_per_class(tr, 'cpc_class', 15)\n",
    "tss.shape"
   ]
  },
  {
   "cell_type": "code",
   "execution_count": 42,
   "metadata": {},
   "outputs": [
    {
     "data": {
      "text/plain": [
       "(135, 6)"
      ]
     },
     "execution_count": 42,
     "metadata": {},
     "output_type": "execute_result"
    }
   ],
   "source": [
    "val_sample = sample_per_class(val_df, 'cpc_class', 15)\n",
    "val_sample.shape"
   ]
  },
  {
   "cell_type": "code",
   "execution_count": 43,
   "metadata": {},
   "outputs": [],
   "source": [
    "tss.to_csv('test_sample_balanced.csv', index=False)\n",
    "trs.to_csv('train_sample_balanced.csv', index=False)\n",
    "val_sample.to_csv('val_sampl_balancede.csv', index=False)"
   ]
  },
  {
   "cell_type": "code",
   "execution_count": 45,
   "metadata": {},
   "outputs": [
    {
     "data": {
      "text/plain": [
       "count     135.000000\n",
       "mean     3580.177778\n",
       "std      1951.803968\n",
       "min       928.000000\n",
       "25%      2105.000000\n",
       "50%      3067.000000\n",
       "75%      4719.000000\n",
       "max      9427.000000\n",
       "Name: summary, dtype: float64"
      ]
     },
     "execution_count": 45,
     "metadata": {},
     "output_type": "execute_result"
    }
   ],
   "source": [
    "tss['summary'].str.len().describe()"
   ]
  },
  {
   "cell_type": "code",
   "execution_count": 46,
   "metadata": {},
   "outputs": [
    {
     "data": {
      "text/plain": [
       "count     135.000000\n",
       "mean      641.207407\n",
       "std       253.842209\n",
       "min        60.000000\n",
       "25%       445.000000\n",
       "50%       639.000000\n",
       "75%       833.500000\n",
       "max      1307.000000\n",
       "Name: abstract, dtype: float64"
      ]
     },
     "execution_count": 46,
     "metadata": {},
     "output_type": "execute_result"
    }
   ],
   "source": [
    "tss.abstract.str.len().describe()"
   ]
  },
  {
   "cell_type": "code",
   "execution_count": 47,
   "metadata": {},
   "outputs": [
    {
     "data": {
      "text/plain": [
       "count     135.000000\n",
       "mean      694.607407\n",
       "std       345.251327\n",
       "min       241.000000\n",
       "25%       408.500000\n",
       "50%       655.000000\n",
       "75%       874.500000\n",
       "max      1864.000000\n",
       "Name: firstclaim, dtype: float64"
      ]
     },
     "execution_count": 47,
     "metadata": {},
     "output_type": "execute_result"
    }
   ],
   "source": [
    "tss.firstclaim.str.len().describe()"
   ]
  },
  {
   "cell_type": "code",
   "execution_count": null,
   "metadata": {},
   "outputs": [],
   "source": [
    "dfbs= pd.concat(tss, trs, val)"
   ]
  }
 ],
 "metadata": {
  "kernelspec": {
   "display_name": "base",
   "language": "python",
   "name": "python3"
  },
  "language_info": {
   "codemirror_mode": {
    "name": "ipython",
    "version": 3
   },
   "file_extension": ".py",
   "mimetype": "text/x-python",
   "name": "python",
   "nbconvert_exporter": "python",
   "pygments_lexer": "ipython3",
   "version": "3.10.12"
  }
 },
 "nbformat": 4,
 "nbformat_minor": 2
}
