{
 "cells": [
  {
   "cell_type": "code",
   "execution_count": 1,
   "metadata": {},
   "outputs": [],
   "source": [
    "import pandas as pd\n",
    "import numpy as np\n",
    "import os, shutil"
   ]
  },
  {
   "cell_type": "code",
   "execution_count": 2,
   "metadata": {},
   "outputs": [
    {
     "data": {
      "text/plain": [
       "['.DS_Store',\n",
       " 'test',\n",
       " 'indepn_depn',\n",
       " 'val2006.csv',\n",
       " 'train2006.csv',\n",
       " 'test2006.csv',\n",
       " 'Helper doc.docx',\n",
       " 'train',\n",
       " 'D:\\\\Patent Insights Data\\\\.cache\\\\huggingface\\\\datasets',\n",
       " 'val']"
      ]
     },
     "execution_count": 2,
     "metadata": {},
     "output_type": "execute_result"
    }
   ],
   "source": [
    "os.chdir('../../cmuMine/')\n",
    "os.listdir()"
   ]
  },
  {
   "cell_type": "code",
   "execution_count": 3,
   "metadata": {},
   "outputs": [
    {
     "data": {
      "text/plain": [
       "'/Users/sachin.murthy/Desktop/cmuMine'"
      ]
     },
     "execution_count": 3,
     "metadata": {},
     "output_type": "execute_result"
    }
   ],
   "source": [
    "os.getcwd()"
   ]
  },
  {
   "cell_type": "code",
   "execution_count": 4,
   "metadata": {},
   "outputs": [],
   "source": [
    "# def process_patent_data(data_path):\n",
    "#     \"\"\"\n",
    "#     Process patent data given a path and number of patents to process.\n",
    "    \n",
    "#     Parameters:\n",
    "#     - data_path: str, the path to the dataset directory.\n",
    "#     - num_patents: int, the maximum number of patents to process (process all if None).\n",
    "    \n",
    "#     Returns:\n",
    "#     - df: DataFrame, containing processed patent data.\n",
    "#     \"\"\"\n",
    "#     # Create a list of feature names\n",
    "#     features = [\"abstract\", \"summary\", \"detailed_description\", \"firstclaim\", \"claims\"]\n",
    "\n",
    "#     # Create an empty list to store data\n",
    "#     data_list = []\n",
    "\n",
    "#     # We'll use a set to track which patent numbers we have processed\n",
    "#     processed_patents = set()\n",
    "\n",
    "#     # As an initial step, let's collect patent application numbers from the 'abstract' folder\n",
    "#     abstract_path = os.path.join(data_path, \"abstract\")\n",
    "#     if not os.path.exists(abstract_path):\n",
    "#         raise Exception(f\"The abstract directory does not exist at the provided path: {abstract_path}\")\n",
    "\n",
    "#     patent_application_numbers = [file.split(\"_\")[0] for file in os.listdir(abstract_path)]\n",
    "\n",
    "#     # Only process the specified number of patents if provided\n",
    "#     for patent_application_no in patent_application_numbers:\n",
    "#         data_row = {\"patent_number\": patent_application_no}\n",
    "#         for feature in features:\n",
    "#             feature_file_path = os.path.join(data_path, feature, f\"{patent_application_no}_{feature}\")  # added .txt assuming the files are text files\n",
    "\n",
    "#             if os.path.exists(feature_file_path):\n",
    "#                 with open(feature_file_path, 'r', encoding='utf-8') as f:  # added encoding for safer file reading\n",
    "#                     data_row[feature] = f.read()\n",
    "#             else:\n",
    "#                 data_row[feature] = None  # or some default value if the feature doesn't exist for the patent\n",
    "\n",
    "#         # Append the data row to the data list\n",
    "#         data_list.append(data_row)\n",
    "\n",
    "#         # Mark this patent as processed\n",
    "#         processed_patents.add(patent_application_no)\n",
    "\n",
    "#     # Convert the list of data to a dataframe\n",
    "#     return pd.DataFrame(data_list)\n",
    "\n",
    "\n",
    "\n",
    "# base_path = r\"/Users/sachin.murthy/Desktop/cmuMine\"\n",
    "# test_path = os.path.join(base_path, \"test/test_2006\")\n",
    "# train_path= os.path.join(base_path, \"train/train_2006\")\n",
    "# val_path= os.path.join(base_path, \"val/val_2006\")\n",
    "\n",
    "\n",
    "# # Create a list of feature names"
   ]
  },
  {
   "cell_type": "code",
   "execution_count": 5,
   "metadata": {},
   "outputs": [
    {
     "name": "stdout",
     "output_type": "stream",
     "text": [
      "(16037, 5)\n"
     ]
    }
   ],
   "source": [
    "# # Process the test dataset\n",
    "# test_path = os.path.join(base_path, \"test/test_2006\")\n",
    "# test_df = process_patent_data(test_path)\n",
    "# print(test_df.shape)\n",
    "\n",
    "test_df= pd.read_csv('test2006.csv')\n",
    "print(test_df.shape)"
   ]
  },
  {
   "cell_type": "code",
   "execution_count": 6,
   "metadata": {},
   "outputs": [
    {
     "data": {
      "text/html": [
       "<div>\n",
       "<style scoped>\n",
       "    .dataframe tbody tr th:only-of-type {\n",
       "        vertical-align: middle;\n",
       "    }\n",
       "\n",
       "    .dataframe tbody tr th {\n",
       "        vertical-align: top;\n",
       "    }\n",
       "\n",
       "    .dataframe thead th {\n",
       "        text-align: right;\n",
       "    }\n",
       "</style>\n",
       "<table border=\"1\" class=\"dataframe\">\n",
       "  <thead>\n",
       "    <tr style=\"text-align: right;\">\n",
       "      <th></th>\n",
       "      <th>patent_number</th>\n",
       "      <th>abstract</th>\n",
       "      <th>summary</th>\n",
       "      <th>firstclaim</th>\n",
       "      <th>claims</th>\n",
       "    </tr>\n",
       "  </thead>\n",
       "  <tbody>\n",
       "    <tr>\n",
       "      <th>0</th>\n",
       "      <td>US20060200002A1</td>\n",
       "      <td>A tubular access sleeve and suction tool for a...</td>\n",
       "      <td>One aspect of the present invention provides ...</td>\n",
       "      <td>1. A method of accessing an anatomic space of ...</td>\n",
       "      <td>1. A method of accessing an anatomic space of ...</td>\n",
       "    </tr>\n",
       "    <tr>\n",
       "      <th>1</th>\n",
       "      <td>US20060221139A1</td>\n",
       "      <td>The present invention is intended to alleviate...</td>\n",
       "      <td>An object of the present invention is to prov...</td>\n",
       "      <td>1. An ink jet print head comprising: \\na heate...</td>\n",
       "      <td>1. An ink jet print head comprising: \\na heate...</td>\n",
       "    </tr>\n",
       "    <tr>\n",
       "      <th>2</th>\n",
       "      <td>US20060237988A1</td>\n",
       "      <td>While a corner part 35 of a skin 7 formed betw...</td>\n",
       "      <td>The present invention has been made to solve ...</td>\n",
       "      <td>1. An integral skin interior trim comprising: ...</td>\n",
       "      <td>1. An integral skin interior trim comprising: ...</td>\n",
       "    </tr>\n",
       "    <tr>\n",
       "      <th>3</th>\n",
       "      <td>US20060217621A1</td>\n",
       "      <td>Systems and methods are described for classify...</td>\n",
       "      <td>The present invention is directed to a method...</td>\n",
       "      <td>1. A method for classifying a cardiac rhythm, ...</td>\n",
       "      <td>1. A method for classifying a cardiac rhythm, ...</td>\n",
       "    </tr>\n",
       "    <tr>\n",
       "      <th>4</th>\n",
       "      <td>US20060027128A1</td>\n",
       "      <td>A projectile for small munitions is provided h...</td>\n",
       "      <td>Accordingly, the small munitions firearm proj...</td>\n",
       "      <td>1. A small munitions projectile for a firearm ...</td>\n",
       "      <td>1. A small munitions projectile for a firearm ...</td>\n",
       "    </tr>\n",
       "    <tr>\n",
       "      <th>...</th>\n",
       "      <td>...</td>\n",
       "      <td>...</td>\n",
       "      <td>...</td>\n",
       "      <td>...</td>\n",
       "      <td>...</td>\n",
       "    </tr>\n",
       "    <tr>\n",
       "      <th>16032</th>\n",
       "      <td>US20060131479A1</td>\n",
       "      <td>A laser beam receiver with non-interdigitated ...</td>\n",
       "      <td>These needs are met by a long laser beam rece...</td>\n",
       "      <td>1. A laser beam receiver for detecting the pos...</td>\n",
       "      <td>1. A laser beam receiver for detecting the pos...</td>\n",
       "    </tr>\n",
       "    <tr>\n",
       "      <th>16033</th>\n",
       "      <td>US20060180464A1</td>\n",
       "      <td>An apparatus for the production of hydrogen is...</td>\n",
       "      <td>It is a general object of the disclosed inven...</td>\n",
       "      <td>1. An apparatus for the production of hydrogen...</td>\n",
       "      <td>1. An apparatus for the production of hydrogen...</td>\n",
       "    </tr>\n",
       "    <tr>\n",
       "      <th>16034</th>\n",
       "      <td>US20060254670A1</td>\n",
       "      <td>A service unit for resource replenishment in a...</td>\n",
       "      <td>This invention relates to a service unit for ...</td>\n",
       "      <td>1. A service unit for resource replenishment i...</td>\n",
       "      <td>1. A service unit for resource replenishment i...</td>\n",
       "    </tr>\n",
       "    <tr>\n",
       "      <th>16035</th>\n",
       "      <td>US20060277800A1</td>\n",
       "      <td>The invention relates to a system for securing...</td>\n",
       "      <td>Therefore, it is an object of the invention t...</td>\n",
       "      <td>1. A system for securing a reversible cleat, c...</td>\n",
       "      <td>1. A system for securing a reversible cleat, c...</td>\n",
       "    </tr>\n",
       "    <tr>\n",
       "      <th>16036</th>\n",
       "      <td>US20060238451A1</td>\n",
       "      <td>Disclosed is an image display device that is c...</td>\n",
       "      <td>In view of the foregoing, it is an object of ...</td>\n",
       "      <td>1. An image display device comprising: \\na dri...</td>\n",
       "      <td>1. An image display device comprising: \\na dri...</td>\n",
       "    </tr>\n",
       "  </tbody>\n",
       "</table>\n",
       "<p>16037 rows × 5 columns</p>\n",
       "</div>"
      ],
      "text/plain": [
       "         patent_number                                           abstract  \\\n",
       "0      US20060200002A1  A tubular access sleeve and suction tool for a...   \n",
       "1      US20060221139A1  The present invention is intended to alleviate...   \n",
       "2      US20060237988A1  While a corner part 35 of a skin 7 formed betw...   \n",
       "3      US20060217621A1  Systems and methods are described for classify...   \n",
       "4      US20060027128A1  A projectile for small munitions is provided h...   \n",
       "...                ...                                                ...   \n",
       "16032  US20060131479A1  A laser beam receiver with non-interdigitated ...   \n",
       "16033  US20060180464A1  An apparatus for the production of hydrogen is...   \n",
       "16034  US20060254670A1  A service unit for resource replenishment in a...   \n",
       "16035  US20060277800A1  The invention relates to a system for securing...   \n",
       "16036  US20060238451A1  Disclosed is an image display device that is c...   \n",
       "\n",
       "                                                 summary  \\\n",
       "0       One aspect of the present invention provides ...   \n",
       "1       An object of the present invention is to prov...   \n",
       "2       The present invention has been made to solve ...   \n",
       "3       The present invention is directed to a method...   \n",
       "4       Accordingly, the small munitions firearm proj...   \n",
       "...                                                  ...   \n",
       "16032   These needs are met by a long laser beam rece...   \n",
       "16033   It is a general object of the disclosed inven...   \n",
       "16034   This invention relates to a service unit for ...   \n",
       "16035   Therefore, it is an object of the invention t...   \n",
       "16036   In view of the foregoing, it is an object of ...   \n",
       "\n",
       "                                              firstclaim  \\\n",
       "0      1. A method of accessing an anatomic space of ...   \n",
       "1      1. An ink jet print head comprising: \\na heate...   \n",
       "2      1. An integral skin interior trim comprising: ...   \n",
       "3      1. A method for classifying a cardiac rhythm, ...   \n",
       "4      1. A small munitions projectile for a firearm ...   \n",
       "...                                                  ...   \n",
       "16032  1. A laser beam receiver for detecting the pos...   \n",
       "16033  1. An apparatus for the production of hydrogen...   \n",
       "16034  1. A service unit for resource replenishment i...   \n",
       "16035  1. A system for securing a reversible cleat, c...   \n",
       "16036  1. An image display device comprising: \\na dri...   \n",
       "\n",
       "                                                  claims  \n",
       "0      1. A method of accessing an anatomic space of ...  \n",
       "1      1. An ink jet print head comprising: \\na heate...  \n",
       "2      1. An integral skin interior trim comprising: ...  \n",
       "3      1. A method for classifying a cardiac rhythm, ...  \n",
       "4      1. A small munitions projectile for a firearm ...  \n",
       "...                                                  ...  \n",
       "16032  1. A laser beam receiver for detecting the pos...  \n",
       "16033  1. An apparatus for the production of hydrogen...  \n",
       "16034  1. A service unit for resource replenishment i...  \n",
       "16035  1. A system for securing a reversible cleat, c...  \n",
       "16036  1. An image display device comprising: \\na dri...  \n",
       "\n",
       "[16037 rows x 5 columns]"
      ]
     },
     "execution_count": 6,
     "metadata": {},
     "output_type": "execute_result"
    }
   ],
   "source": [
    "test_df"
   ]
  },
  {
   "cell_type": "code",
   "execution_count": 7,
   "metadata": {},
   "outputs": [
    {
     "name": "stdout",
     "output_type": "stream",
     "text": [
      "(16109, 5)\n"
     ]
    }
   ],
   "source": [
    "# Process the val dataset\n",
    "# val_path = os.path.join(base_path, \"val/val_2006\")\n",
    "# val_df = process_patent_data(val_path)\n",
    "# print(val_df.shape)\n",
    "\n",
    "val_df= pd.read_csv('val2006.csv')\n",
    "print(val_df.shape)"
   ]
  },
  {
   "cell_type": "code",
   "execution_count": 8,
   "metadata": {},
   "outputs": [
    {
     "data": {
      "text/html": [
       "<div>\n",
       "<style scoped>\n",
       "    .dataframe tbody tr th:only-of-type {\n",
       "        vertical-align: middle;\n",
       "    }\n",
       "\n",
       "    .dataframe tbody tr th {\n",
       "        vertical-align: top;\n",
       "    }\n",
       "\n",
       "    .dataframe thead th {\n",
       "        text-align: right;\n",
       "    }\n",
       "</style>\n",
       "<table border=\"1\" class=\"dataframe\">\n",
       "  <thead>\n",
       "    <tr style=\"text-align: right;\">\n",
       "      <th></th>\n",
       "      <th>patent_number</th>\n",
       "      <th>abstract</th>\n",
       "      <th>summary</th>\n",
       "      <th>firstclaim</th>\n",
       "      <th>claims</th>\n",
       "    </tr>\n",
       "  </thead>\n",
       "  <tbody>\n",
       "    <tr>\n",
       "      <th>0</th>\n",
       "      <td>US20060191158A1</td>\n",
       "      <td>A lumber drying system includes a drying compa...</td>\n",
       "      <td>A system for drying lumber is provided, where...</td>\n",
       "      <td>1. A system for drying lumber, the system comp...</td>\n",
       "      <td>1. A system for drying lumber, the system comp...</td>\n",
       "    </tr>\n",
       "    <tr>\n",
       "      <th>1</th>\n",
       "      <td>US20060242907A1</td>\n",
       "      <td>A gasifier injection module includes a two-sta...</td>\n",
       "      <td>A gasifier having a gasification chamber and ...</td>\n",
       "      <td>1. An injector module for a gasifier, said inj...</td>\n",
       "      <td>1. An injector module for a gasifier, said inj...</td>\n",
       "    </tr>\n",
       "    <tr>\n",
       "      <th>2</th>\n",
       "      <td>US20060248618A1</td>\n",
       "      <td>Systems and methods for copying the classical ...</td>\n",
       "      <td>In one embodiment, a method of copying a clas...</td>\n",
       "      <td>1. A method of copying a classical state of a ...</td>\n",
       "      <td>1. A method of copying a classical state of a ...</td>\n",
       "    </tr>\n",
       "    <tr>\n",
       "      <th>3</th>\n",
       "      <td>US20060046342A1</td>\n",
       "      <td>A method for manufacturing an organic electron...</td>\n",
       "      <td>According to a first aspect, the present inve...</td>\n",
       "      <td>1. A method for manufacturing an organic elect...</td>\n",
       "      <td>1. A method for manufacturing an organic elect...</td>\n",
       "    </tr>\n",
       "    <tr>\n",
       "      <th>4</th>\n",
       "      <td>US20060133565A1</td>\n",
       "      <td>The present invention provides a computed tomo...</td>\n",
       "      <td>The present invention is made in view of thes...</td>\n",
       "      <td>1. A computed tomography system comprising: \\n...</td>\n",
       "      <td>1. A computed tomography system comprising: \\n...</td>\n",
       "    </tr>\n",
       "    <tr>\n",
       "      <th>...</th>\n",
       "      <td>...</td>\n",
       "      <td>...</td>\n",
       "      <td>...</td>\n",
       "      <td>...</td>\n",
       "      <td>...</td>\n",
       "    </tr>\n",
       "    <tr>\n",
       "      <th>16104</th>\n",
       "      <td>US20060259324A1</td>\n",
       "      <td>A method for adjudicating and reimbursing a ca...</td>\n",
       "      <td>The invention overcoming these and other prob...</td>\n",
       "      <td>1. A method in a computing environment for adj...</td>\n",
       "      <td>1. A method in a computing environment for adj...</td>\n",
       "    </tr>\n",
       "    <tr>\n",
       "      <th>16105</th>\n",
       "      <td>US20060258138A1</td>\n",
       "      <td>Methods for fabricating fluid injection device...</td>\n",
       "      <td>Methods for fabricating fluid injector device...</td>\n",
       "      <td>1. A method for fabricating a fluid injection ...</td>\n",
       "      <td>1. A method for fabricating a fluid injection ...</td>\n",
       "    </tr>\n",
       "    <tr>\n",
       "      <th>16106</th>\n",
       "      <td>US20060174737A1</td>\n",
       "      <td>In order to manufacture a die for forming rece...</td>\n",
       "      <td>The present invention has been made in view o...</td>\n",
       "      <td>1. A method of manufacturing a die for forming...</td>\n",
       "      <td>1. A method of manufacturing a die for forming...</td>\n",
       "    </tr>\n",
       "    <tr>\n",
       "      <th>16107</th>\n",
       "      <td>US20060281418A1</td>\n",
       "      <td>Systems and methods are provided for a stacked...</td>\n",
       "      <td>According to a first aspect of the present in...</td>\n",
       "      <td>1. A device for use in a wireless front-end mo...</td>\n",
       "      <td>1. A device for use in a wireless front-end mo...</td>\n",
       "    </tr>\n",
       "    <tr>\n",
       "      <th>16108</th>\n",
       "      <td>US20060192258A1</td>\n",
       "      <td>A semiconductor device includes a semiconducto...</td>\n",
       "      <td>In view of the circumstances set forth above,...</td>\n",
       "      <td>1. A semiconductor device comprising: \\na semi...</td>\n",
       "      <td>1. A semiconductor device comprising: \\na semi...</td>\n",
       "    </tr>\n",
       "  </tbody>\n",
       "</table>\n",
       "<p>16109 rows × 5 columns</p>\n",
       "</div>"
      ],
      "text/plain": [
       "         patent_number                                           abstract  \\\n",
       "0      US20060191158A1  A lumber drying system includes a drying compa...   \n",
       "1      US20060242907A1  A gasifier injection module includes a two-sta...   \n",
       "2      US20060248618A1  Systems and methods for copying the classical ...   \n",
       "3      US20060046342A1  A method for manufacturing an organic electron...   \n",
       "4      US20060133565A1  The present invention provides a computed tomo...   \n",
       "...                ...                                                ...   \n",
       "16104  US20060259324A1  A method for adjudicating and reimbursing a ca...   \n",
       "16105  US20060258138A1  Methods for fabricating fluid injection device...   \n",
       "16106  US20060174737A1  In order to manufacture a die for forming rece...   \n",
       "16107  US20060281418A1  Systems and methods are provided for a stacked...   \n",
       "16108  US20060192258A1  A semiconductor device includes a semiconducto...   \n",
       "\n",
       "                                                 summary  \\\n",
       "0       A system for drying lumber is provided, where...   \n",
       "1       A gasifier having a gasification chamber and ...   \n",
       "2       In one embodiment, a method of copying a clas...   \n",
       "3       According to a first aspect, the present inve...   \n",
       "4       The present invention is made in view of thes...   \n",
       "...                                                  ...   \n",
       "16104   The invention overcoming these and other prob...   \n",
       "16105   Methods for fabricating fluid injector device...   \n",
       "16106   The present invention has been made in view o...   \n",
       "16107   According to a first aspect of the present in...   \n",
       "16108   In view of the circumstances set forth above,...   \n",
       "\n",
       "                                              firstclaim  \\\n",
       "0      1. A system for drying lumber, the system comp...   \n",
       "1      1. An injector module for a gasifier, said inj...   \n",
       "2      1. A method of copying a classical state of a ...   \n",
       "3      1. A method for manufacturing an organic elect...   \n",
       "4      1. A computed tomography system comprising: \\n...   \n",
       "...                                                  ...   \n",
       "16104  1. A method in a computing environment for adj...   \n",
       "16105  1. A method for fabricating a fluid injection ...   \n",
       "16106  1. A method of manufacturing a die for forming...   \n",
       "16107  1. A device for use in a wireless front-end mo...   \n",
       "16108  1. A semiconductor device comprising: \\na semi...   \n",
       "\n",
       "                                                  claims  \n",
       "0      1. A system for drying lumber, the system comp...  \n",
       "1      1. An injector module for a gasifier, said inj...  \n",
       "2      1. A method of copying a classical state of a ...  \n",
       "3      1. A method for manufacturing an organic elect...  \n",
       "4      1. A computed tomography system comprising: \\n...  \n",
       "...                                                  ...  \n",
       "16104  1. A method in a computing environment for adj...  \n",
       "16105  1. A method for fabricating a fluid injection ...  \n",
       "16106  1. A method of manufacturing a die for forming...  \n",
       "16107  1. A device for use in a wireless front-end mo...  \n",
       "16108  1. A semiconductor device comprising: \\na semi...  \n",
       "\n",
       "[16109 rows x 5 columns]"
      ]
     },
     "execution_count": 8,
     "metadata": {},
     "output_type": "execute_result"
    }
   ],
   "source": [
    "val_df"
   ]
  },
  {
   "cell_type": "code",
   "execution_count": 9,
   "metadata": {},
   "outputs": [
    {
     "name": "stdout",
     "output_type": "stream",
     "text": [
      "(127971, 5)\n"
     ]
    }
   ],
   "source": [
    "# Process the train dataset\n",
    "# train_path = os.path.join(base_path, \"train/train_2006\")\n",
    "# train_df = process_patent_data(train_path)\n",
    "# print(train_df.shape)\n",
    "\n",
    "train_df= pd.read_csv('train2006.csv')\n",
    "print(train_df.shape)"
   ]
  },
  {
   "cell_type": "code",
   "execution_count": 10,
   "metadata": {},
   "outputs": [
    {
     "data": {
      "text/html": [
       "<div>\n",
       "<style scoped>\n",
       "    .dataframe tbody tr th:only-of-type {\n",
       "        vertical-align: middle;\n",
       "    }\n",
       "\n",
       "    .dataframe tbody tr th {\n",
       "        vertical-align: top;\n",
       "    }\n",
       "\n",
       "    .dataframe thead th {\n",
       "        text-align: right;\n",
       "    }\n",
       "</style>\n",
       "<table border=\"1\" class=\"dataframe\">\n",
       "  <thead>\n",
       "    <tr style=\"text-align: right;\">\n",
       "      <th></th>\n",
       "      <th>patent_number</th>\n",
       "      <th>abstract</th>\n",
       "      <th>summary</th>\n",
       "      <th>firstclaim</th>\n",
       "      <th>claims</th>\n",
       "    </tr>\n",
       "  </thead>\n",
       "  <tbody>\n",
       "    <tr>\n",
       "      <th>0</th>\n",
       "      <td>US20060067279A1</td>\n",
       "      <td>A method of transmitting a data packet based o...</td>\n",
       "      <td>Accordingly, the present invention is directe...</td>\n",
       "      <td>1. A method of transmitting a data packet base...</td>\n",
       "      <td>1. A method of transmitting a data packet base...</td>\n",
       "    </tr>\n",
       "    <tr>\n",
       "      <th>1</th>\n",
       "      <td>US20060136065A1</td>\n",
       "      <td>A radially compressed xerogel spinal nucleus i...</td>\n",
       "      <td>A spinal nucleus implant is provided which in...</td>\n",
       "      <td>1. A spinal nucleus implant comprising a subst...</td>\n",
       "      <td>1. A spinal nucleus implant comprising a subst...</td>\n",
       "    </tr>\n",
       "    <tr>\n",
       "      <th>2</th>\n",
       "      <td>US20060190344A1</td>\n",
       "      <td>A networked interactive expert system is discl...</td>\n",
       "      <td>The present invention comprises a networked s...</td>\n",
       "      <td>1. An interactive expert system for facilitati...</td>\n",
       "      <td>1. An interactive expert system for facilitati...</td>\n",
       "    </tr>\n",
       "    <tr>\n",
       "      <th>3</th>\n",
       "      <td>US20060076912A1</td>\n",
       "      <td>A start-up circuit which decreases a start-up ...</td>\n",
       "      <td>A start-up circuit of a DC fan in accordance ...</td>\n",
       "      <td>1. A start-up circuit for a DC (direct current...</td>\n",
       "      <td>1. A start-up circuit for a DC (direct current...</td>\n",
       "    </tr>\n",
       "    <tr>\n",
       "      <th>4</th>\n",
       "      <td>US20060111909A1</td>\n",
       "      <td>A system and method for providing automatic an...</td>\n",
       "      <td>The present invention is directed to a system...</td>\n",
       "      <td>1. A system for providing automatic and coordi...</td>\n",
       "      <td>1. A system for providing automatic and coordi...</td>\n",
       "    </tr>\n",
       "    <tr>\n",
       "      <th>...</th>\n",
       "      <td>...</td>\n",
       "      <td>...</td>\n",
       "      <td>...</td>\n",
       "      <td>...</td>\n",
       "      <td>...</td>\n",
       "    </tr>\n",
       "    <tr>\n",
       "      <th>127966</th>\n",
       "      <td>US20060122059A1</td>\n",
       "      <td>The present invention provides a thermal paper...</td>\n",
       "      <td>The following presents a simplified summary o...</td>\n",
       "      <td>1. A thermal paper composite precursor compris...</td>\n",
       "      <td>1. A thermal paper composite precursor compris...</td>\n",
       "    </tr>\n",
       "    <tr>\n",
       "      <th>127967</th>\n",
       "      <td>US20060045042A1</td>\n",
       "      <td>The invention relates generally to a method fo...</td>\n",
       "      <td>In a first exemplary embodiment of the presen...</td>\n",
       "      <td>1. A method for providing presence services in...</td>\n",
       "      <td>1. A method for providing presence services in...</td>\n",
       "    </tr>\n",
       "    <tr>\n",
       "      <th>127968</th>\n",
       "      <td>US20060204949A1</td>\n",
       "      <td>Methods, devices, apparatus, computer-readable...</td>\n",
       "      <td>Thus, devices, methods, apparatus, computer-r...</td>\n",
       "      <td>1. A method for providing user-assistance demo...</td>\n",
       "      <td>1. A method for providing user-assistance demo...</td>\n",
       "    </tr>\n",
       "    <tr>\n",
       "      <th>127969</th>\n",
       "      <td>US20060068631A1</td>\n",
       "      <td>The present invention relates to an electronic...</td>\n",
       "      <td>According to the conventional technology, in ...</td>\n",
       "      <td>1. An electronic apparatus indicating a mounti...</td>\n",
       "      <td>1. An electronic apparatus indicating a mounti...</td>\n",
       "    </tr>\n",
       "    <tr>\n",
       "      <th>127970</th>\n",
       "      <td>US20060184378A1</td>\n",
       "      <td>Methods and apparatuses to connect consumers t...</td>\n",
       "      <td>Methods and apparatuses to connect consumers ...</td>\n",
       "      <td>1. A method, comprising: \\nproviding a list of...</td>\n",
       "      <td>1. A method, comprising: \\nproviding a list of...</td>\n",
       "    </tr>\n",
       "  </tbody>\n",
       "</table>\n",
       "<p>127971 rows × 5 columns</p>\n",
       "</div>"
      ],
      "text/plain": [
       "          patent_number                                           abstract  \\\n",
       "0       US20060067279A1  A method of transmitting a data packet based o...   \n",
       "1       US20060136065A1  A radially compressed xerogel spinal nucleus i...   \n",
       "2       US20060190344A1  A networked interactive expert system is discl...   \n",
       "3       US20060076912A1  A start-up circuit which decreases a start-up ...   \n",
       "4       US20060111909A1  A system and method for providing automatic an...   \n",
       "...                 ...                                                ...   \n",
       "127966  US20060122059A1  The present invention provides a thermal paper...   \n",
       "127967  US20060045042A1  The invention relates generally to a method fo...   \n",
       "127968  US20060204949A1  Methods, devices, apparatus, computer-readable...   \n",
       "127969  US20060068631A1  The present invention relates to an electronic...   \n",
       "127970  US20060184378A1  Methods and apparatuses to connect consumers t...   \n",
       "\n",
       "                                                  summary  \\\n",
       "0        Accordingly, the present invention is directe...   \n",
       "1        A spinal nucleus implant is provided which in...   \n",
       "2        The present invention comprises a networked s...   \n",
       "3        A start-up circuit of a DC fan in accordance ...   \n",
       "4        The present invention is directed to a system...   \n",
       "...                                                   ...   \n",
       "127966   The following presents a simplified summary o...   \n",
       "127967   In a first exemplary embodiment of the presen...   \n",
       "127968   Thus, devices, methods, apparatus, computer-r...   \n",
       "127969   According to the conventional technology, in ...   \n",
       "127970   Methods and apparatuses to connect consumers ...   \n",
       "\n",
       "                                               firstclaim  \\\n",
       "0       1. A method of transmitting a data packet base...   \n",
       "1       1. A spinal nucleus implant comprising a subst...   \n",
       "2       1. An interactive expert system for facilitati...   \n",
       "3       1. A start-up circuit for a DC (direct current...   \n",
       "4       1. A system for providing automatic and coordi...   \n",
       "...                                                   ...   \n",
       "127966  1. A thermal paper composite precursor compris...   \n",
       "127967  1. A method for providing presence services in...   \n",
       "127968  1. A method for providing user-assistance demo...   \n",
       "127969  1. An electronic apparatus indicating a mounti...   \n",
       "127970  1. A method, comprising: \\nproviding a list of...   \n",
       "\n",
       "                                                   claims  \n",
       "0       1. A method of transmitting a data packet base...  \n",
       "1       1. A spinal nucleus implant comprising a subst...  \n",
       "2       1. An interactive expert system for facilitati...  \n",
       "3       1. A start-up circuit for a DC (direct current...  \n",
       "4       1. A system for providing automatic and coordi...  \n",
       "...                                                   ...  \n",
       "127966  1. A thermal paper composite precursor compris...  \n",
       "127967  1. A method for providing presence services in...  \n",
       "127968  1. A method for providing user-assistance demo...  \n",
       "127969  1. An electronic apparatus indicating a mounti...  \n",
       "127970  1. A method, comprising: \\nproviding a list of...  \n",
       "\n",
       "[127971 rows x 5 columns]"
      ]
     },
     "execution_count": 10,
     "metadata": {},
     "output_type": "execute_result"
    }
   ],
   "source": [
    "train_df"
   ]
  },
  {
   "cell_type": "code",
   "execution_count": 11,
   "metadata": {},
   "outputs": [
    {
     "name": "stdout",
     "output_type": "stream",
     "text": [
      "<class 'pandas.core.frame.DataFrame'>\n",
      "RangeIndex: 127971 entries, 0 to 127970\n",
      "Data columns (total 5 columns):\n",
      " #   Column         Non-Null Count   Dtype \n",
      "---  ------         --------------   ----- \n",
      " 0   patent_number  127971 non-null  object\n",
      " 1   abstract       127971 non-null  object\n",
      " 2   summary        127971 non-null  object\n",
      " 3   firstclaim     127971 non-null  object\n",
      " 4   claims         127971 non-null  object\n",
      "dtypes: object(5)\n",
      "memory usage: 4.9+ MB\n"
     ]
    }
   ],
   "source": [
    "train_df.info()"
   ]
  },
  {
   "cell_type": "code",
   "execution_count": 12,
   "metadata": {},
   "outputs": [
    {
     "name": "stdout",
     "output_type": "stream",
     "text": [
      "<class 'pandas.core.frame.DataFrame'>\n",
      "RangeIndex: 16037 entries, 0 to 16036\n",
      "Data columns (total 5 columns):\n",
      " #   Column         Non-Null Count  Dtype \n",
      "---  ------         --------------  ----- \n",
      " 0   patent_number  16037 non-null  object\n",
      " 1   abstract       16037 non-null  object\n",
      " 2   summary        16037 non-null  object\n",
      " 3   firstclaim     16037 non-null  object\n",
      " 4   claims         16037 non-null  object\n",
      "dtypes: object(5)\n",
      "memory usage: 626.6+ KB\n"
     ]
    }
   ],
   "source": [
    "test_df.info()"
   ]
  },
  {
   "cell_type": "code",
   "execution_count": 13,
   "metadata": {},
   "outputs": [
    {
     "name": "stdout",
     "output_type": "stream",
     "text": [
      "<class 'pandas.core.frame.DataFrame'>\n",
      "RangeIndex: 16109 entries, 0 to 16108\n",
      "Data columns (total 5 columns):\n",
      " #   Column         Non-Null Count  Dtype \n",
      "---  ------         --------------  ----- \n",
      " 0   patent_number  16109 non-null  object\n",
      " 1   abstract       16109 non-null  object\n",
      " 2   summary        16109 non-null  object\n",
      " 3   firstclaim     16109 non-null  object\n",
      " 4   claims         16109 non-null  object\n",
      "dtypes: object(5)\n",
      "memory usage: 629.4+ KB\n"
     ]
    }
   ],
   "source": [
    "val_df.info()"
   ]
  },
  {
   "cell_type": "code",
   "execution_count": 14,
   "metadata": {},
   "outputs": [],
   "source": [
    "# train_df.drop(columns=['detailed_description'], inplace=True)\n",
    "# test_df.drop(columns=['detailed_description'], inplace=True)\n",
    "# val_df.drop(columns=['detailed_description'], inplace=True)"
   ]
  },
  {
   "cell_type": "code",
   "execution_count": 15,
   "metadata": {},
   "outputs": [
    {
     "data": {
      "text/plain": [
       "'/Users/sachin.murthy/Desktop/cmuMine'"
      ]
     },
     "execution_count": 15,
     "metadata": {},
     "output_type": "execute_result"
    }
   ],
   "source": [
    "os.getcwd()"
   ]
  },
  {
   "cell_type": "code",
   "execution_count": 16,
   "metadata": {},
   "outputs": [],
   "source": [
    "# train_df.to_csv('train2006.csv', index=False)\n",
    "# test_df.to_csv('test2006.csv', index=False)\n",
    "# val_df.to_csv('val2006.csv', index=False)"
   ]
  },
  {
   "cell_type": "markdown",
   "metadata": {},
   "source": [
    "# Stratifying based on Hupd CPC section"
   ]
  },
  {
   "cell_type": "code",
   "execution_count": 17,
   "metadata": {},
   "outputs": [],
   "source": [
    "import pandas as pd\n",
    "import numpy as np\n",
    "import json\n",
    "import os"
   ]
  },
  {
   "cell_type": "code",
   "execution_count": 19,
   "metadata": {},
   "outputs": [],
   "source": [
    "# !pip install datasets\n",
    "# !pip install transformers"
   ]
  },
  {
   "cell_type": "code",
   "execution_count": 28,
   "metadata": {},
   "outputs": [],
   "source": [
    "# Set the cache directories\n",
    "# os.environ[\"HF_HOME\"] = r\"D:\\Patent Insights Data\\.cache\\huggingface\""
   ]
  },
  {
   "cell_type": "code",
   "execution_count": 32,
   "metadata": {},
   "outputs": [
    {
     "data": {
      "application/vnd.jupyter.widget-view+json": {
       "model_id": "0db2e3dd69124e43ad9e153abdada912",
       "version_major": 2,
       "version_minor": 0
      },
      "text/plain": [
       "Downloading builder script:   0%|          | 0.00/14.7k [00:00<?, ?B/s]"
      ]
     },
     "metadata": {},
     "output_type": "display_data"
    },
    {
     "data": {
      "application/vnd.jupyter.widget-view+json": {
       "model_id": "8c448d8c4ce442bcb9327c0228bd199e",
       "version_major": 2,
       "version_minor": 0
      },
      "text/plain": [
       "Downloading readme:   0%|          | 0.00/10.9k [00:00<?, ?B/s]"
      ]
     },
     "metadata": {},
     "output_type": "display_data"
    },
    {
     "name": "stdout",
     "output_type": "stream",
     "text": [
      "Loading dataset with config: PatentsConfig(name='all', version=0.0.0, data_dir='data', data_files={'train': ['https://huggingface.co/datasets/HUPD/hupd/blob/main/hupd_metadata_2022-02-22.feather']}, description='Patent data from all years (2004-2018)')\n"
     ]
    },
    {
     "data": {
      "application/vnd.jupyter.widget-view+json": {
       "model_id": "476e299c3f664d18bb07a680212f9c27",
       "version_major": 2,
       "version_minor": 0
      },
      "text/plain": [
       "Downloading data:   0%|          | 0.00/988M [00:00<?, ?B/s]"
      ]
     },
     "metadata": {},
     "output_type": "display_data"
    },
    {
     "name": "stdout",
     "output_type": "stream",
     "text": [
      "Using metadata file: /Users/sachin.murthy/.cache/huggingface/datasets/downloads/2506d351067aa50a4c90854952cb472d0d806f5f3ca541673fde056d17aec53f\n"
     ]
    },
    {
     "data": {
      "application/vnd.jupyter.widget-view+json": {
       "model_id": "7be63c71b173419daec2d8000ccaa50e",
       "version_major": 2,
       "version_minor": 0
      },
      "text/plain": [
       "Downloading data:   0%|          | 0.00/61.8G [00:00<?, ?B/s]"
      ]
     },
     "metadata": {},
     "output_type": "display_data"
    },
    {
     "name": "stdout",
     "output_type": "stream",
     "text": [
      "Reading metadata file: /Users/sachin.murthy/.cache/huggingface/datasets/downloads/2506d351067aa50a4c90854952cb472d0d806f5f3ca541673fde056d17aec53f\n",
      "Extracting /Users/sachin.murthy/.cache/huggingface/datasets/downloads/extracted/8b49f7c202c4edb46628c8fb2ffbdd527e8a2c68649a06be2dc6c2009ef35ca9/data/2006.tar.gz\n",
      "Filtering train dataset by filing start date: 2006-01-01\n",
      "Filtering train dataset by filing end date: 2006-03-01\n",
      "Filtering val dataset by filing start date: 2006-03-02\n",
      "Filtering val dataset by filing end date: 2006-04-01\n"
     ]
    },
    {
     "data": {
      "application/vnd.jupyter.widget-view+json": {
       "model_id": "36da1e55a282418f89d0a1c13e0667e1",
       "version_major": 2,
       "version_minor": 0
      },
      "text/plain": [
       "Generating train split: 0 examples [00:00, ? examples/s]"
      ]
     },
     "metadata": {},
     "output_type": "display_data"
    },
    {
     "data": {
      "application/vnd.jupyter.widget-view+json": {
       "model_id": "1d2c3e08cea64e68a3f5b3d8074df9e0",
       "version_major": 2,
       "version_minor": 0
      },
      "text/plain": [
       "Generating validation split: 0 examples [00:00, ? examples/s]"
      ]
     },
     "metadata": {},
     "output_type": "display_data"
    },
    {
     "name": "stderr",
     "output_type": "stream",
     "text": [
      "/opt/homebrew/Caskroom/miniforge/base/lib/python3.10/site-packages/datasets/table.py:1421: FutureWarning: promote has been superseded by mode='default'.\n",
      "  table = cls._concat_blocks(blocks, axis=0)\n"
     ]
    }
   ],
   "source": [
    "# Datasets load_dataset function\n",
    "from datasets import load_dataset\n",
    "# Standard PyTorch DataLoader\n",
    "from torch.utils.data import DataLoader\n",
    "dataset_dict = load_dataset('HUPD/hupd',\n",
    "    name='all',\n",
    "    data_files=\"https://huggingface.co/datasets/HUPD/hupd/blob/main/hupd_metadata_2022-02-22.feather\",\n",
    "    icpr_label=None,\n",
    "    force_extract=True,\n",
    "    train_filing_start_date='2006-01-01',\n",
    "    train_filing_end_date='2006-03-01',\n",
    "    val_filing_start_date='2006-03-02',\n",
    "    val_filing_end_date='2006-04-01')"
   ]
  },
  {
   "cell_type": "code",
   "execution_count": 33,
   "metadata": {},
   "outputs": [
    {
     "name": "stdout",
     "output_type": "stream",
     "text": [
      "DatasetDict({\n",
      "    train: Dataset({\n",
      "        features: ['patent_number', 'decision', 'title', 'abstract', 'claims', 'background', 'summary', 'description', 'cpc_label', 'ipc_label', 'filing_date', 'patent_issue_date', 'date_published', 'examiner_id'],\n",
      "        num_rows: 44338\n",
      "    })\n",
      "    validation: Dataset({\n",
      "        features: ['patent_number', 'decision', 'title', 'abstract', 'claims', 'background', 'summary', 'description', 'cpc_label', 'ipc_label', 'filing_date', 'patent_issue_date', 'date_published', 'examiner_id'],\n",
      "        num_rows: 27719\n",
      "    })\n",
      "})\n"
     ]
    }
   ],
   "source": [
    "print(dataset_dict)"
   ]
  },
  {
   "cell_type": "code",
   "execution_count": 22,
   "metadata": {},
   "outputs": [
    {
     "data": {
      "text/html": [
       "<div>\n",
       "<style scoped>\n",
       "    .dataframe tbody tr th:only-of-type {\n",
       "        vertical-align: middle;\n",
       "    }\n",
       "\n",
       "    .dataframe tbody tr th {\n",
       "        vertical-align: top;\n",
       "    }\n",
       "\n",
       "    .dataframe thead th {\n",
       "        text-align: right;\n",
       "    }\n",
       "</style>\n",
       "<table border=\"1\" class=\"dataframe\">\n",
       "  <thead>\n",
       "    <tr style=\"text-align: right;\">\n",
       "      <th></th>\n",
       "      <th>patent_number</th>\n",
       "      <th>decision</th>\n",
       "      <th>title</th>\n",
       "      <th>abstract</th>\n",
       "      <th>claims</th>\n",
       "      <th>background</th>\n",
       "      <th>summary</th>\n",
       "      <th>description</th>\n",
       "      <th>cpc_label</th>\n",
       "      <th>ipc_label</th>\n",
       "      <th>filing_date</th>\n",
       "      <th>patent_issue_date</th>\n",
       "      <th>date_published</th>\n",
       "      <th>examiner_id</th>\n",
       "    </tr>\n",
       "  </thead>\n",
       "  <tbody>\n",
       "  </tbody>\n",
       "</table>\n",
       "</div>"
      ],
      "text/plain": [
       "Empty DataFrame\n",
       "Columns: [patent_number, decision, title, abstract, claims, background, summary, description, cpc_label, ipc_label, filing_date, patent_issue_date, date_published, examiner_id]\n",
       "Index: []"
      ]
     },
     "execution_count": 22,
     "metadata": {},
     "output_type": "execute_result"
    }
   ],
   "source": [
    "df= dataset_dict['va'].to_pandas()\n",
    "df"
   ]
  },
  {
   "cell_type": "code",
   "execution_count": null,
   "metadata": {},
   "outputs": [],
   "source": []
  }
 ],
 "metadata": {
  "kernelspec": {
   "display_name": "base",
   "language": "python",
   "name": "python3"
  },
  "language_info": {
   "codemirror_mode": {
    "name": "ipython",
    "version": 3
   },
   "file_extension": ".py",
   "mimetype": "text/x-python",
   "name": "python",
   "nbconvert_exporter": "python",
   "pygments_lexer": "ipython3",
   "version": "3.10.12"
  }
 },
 "nbformat": 4,
 "nbformat_minor": 2
}
